{
 "cells": [
  {
   "cell_type": "code",
   "execution_count": 129,
   "id": "e3048f2a-a0b1-4b5c-ab39-79abf0e5a68f",
   "metadata": {
    "tags": []
   },
   "outputs": [],
   "source": [
    "def convert_decimal_to_binary(float_value, precision):\n",
    "    int_part_binary = bin(int(float_value))[2:]\n",
    "    frac_part = float_value - int(float_value)\n",
    "    frac_part_binary = ''\n",
    "        \n",
    "    while frac_part:\n",
    "        frac_part *= 2\n",
    "        if frac_part >= 1:\n",
    "            frac_part_binary += '1'\n",
    "            frac_part -= 1\n",
    "        else:\n",
    "            frac_part_binary += '0'\n",
    "\n",
    "        if len(frac_part_binary) >= precision:\n",
    "            break\n",
    "            \n",
    "    if frac_part_binary:\n",
    "        return int_part_binary + '.' + frac_part_binary\n",
    "    else:\n",
    "        return int_part_binary\n",
    "    \n",
    "def convert_binary_to_decimal(binary_str):\n",
    "    int_part, _, frac_part = binary_str.partition('.')\n",
    "    decimal = sum(int(bit) * 2**index for index, bit in enumerate(reversed(int_part)))\n",
    "    decimal += sum(int(bit) * 2**(-index) for index, bit in enumerate(frac_part, 1))\n",
    "    return decimal\n",
    "\n",
    "def normalize_binary(binary_str): \n",
    "    int_part, frac_part = binary_str.split('.')\n",
    "    if int_part == '0':\n",
    "        i = 0\n",
    "        # Find the first '1' in the fractional part\n",
    "        while i < len(frac_part) and frac_part[i] == '0':\n",
    "            i += 1\n",
    "        if i < len(frac_part):\n",
    "            normalized_mantissa = '1.' + frac_part[i+1:]\n",
    "            exponent = -(i+1)\n",
    "        else:\n",
    "            # Value is zero\n",
    "            return '0.0', 0\n",
    "        \n",
    "    else:\n",
    "        normalized_mantissa = '1.' + int_part[1:] + frac_part\n",
    "        exponent = len(int_part) - 1\n",
    "    \n",
    "    return normalized_mantissa, exponent\n",
    "\n",
    "def calculate_biased_exponent(exponent, bias):\n",
    "    return exponent - bias\n",
    "\n",
    "def round_mantissa(mantissa, precision):\n",
    "    if mantissa[precision] == '0':\n",
    "        return mantissa[:precision - 1]\n",
    "    \n",
    "    # str è immutabile in Python\n",
    "    mantissa_list = list(mantissa)\n",
    "    carry = True\n",
    "    for i in reversed(range(precision)):\n",
    "        if carry:\n",
    "            if mantissa_list[i] == '0':\n",
    "                mantissa_list[i] = '1'\n",
    "                carry = False\n",
    "            else:\n",
    "                mantissa_list[i] = '0'\n",
    "        else:\n",
    "            break\n",
    "            \n",
    "    return ''.join(mantissa_list[:precision -1])\n",
    "\n",
    "def convert_decimal_to_ieee754_representation(float_value, precision, lambda_val, omega_val, rounded = True):\n",
    "    normalized_mantissa, exponent = normalize_binary(convert_decimal_to_binary(abs(float_value), precision))\n",
    "    \n",
    "    if not lambda_val <= exponent <= omega_val:\n",
    "        raise ValueError(f\"The exponent {exponent} does not fall between λ={lambda_val} and ω={omega_val}.\")\n",
    "\n",
    "    sign_bit = '0' if float_value >= 0 else '1'\n",
    "    biased_exponent = calculate_biased_exponent(exponent, lambda_val)\n",
    "    biased_exponent_bits = convert_float_to_binary(biased_exponent, precision).split('.')[0]  # prendiamo solo la parte intera\n",
    "    \n",
    "    if rounded:\n",
    "        mantissa_bits = round_mantissa(normalized_mantissa.split('.')[1], precision)\n",
    "    else:\n",
    "        mantissa_bits = normalized_mantissa.split('.')[1][:precision - 1] # solo n-1 bit vengono effettivamente memorizzati in memoria\n",
    "    \n",
    "    return sign_bit + biased_exponent_bits + mantissa_bits\n",
    "\n",
    "def convert_ieee754_representation_to_decimal(binary_str, precision, lambda_val):\n",
    "    sign_bit = binary_str[0]\n",
    "    biased_exponent_bits = binary_str[1:len(binary_str) - precision+1]\n",
    "    mantissa_bits = binary_str[-precision+1:]\n",
    "    print(f'Sign bit: |{sign_bit}|, Biased exponent bits: |{biased_exponent_bits}|, Mantissa bits: |{mantissa_bits}|')\n",
    "    \n",
    "    exponent = convert_binary_to_decimal(biased_exponent_bits) + lambda_val\n",
    "    denormalized_mantissa = '1' + mantissa_bits[:exponent] + '.' + mantissa_bits[exponent:]\n",
    "    return convert_binary_to_decimal(denormalized_mantissa) * (-1 if sign_bit == '1' else 1)"
   ]
  },
  {
   "cell_type": "code",
   "execution_count": 132,
   "id": "50dd186f-1c87-4c58-bb50-2f0713b2604a",
   "metadata": {
    "tags": []
   },
   "outputs": [
    {
     "name": "stderr",
     "output_type": "stream",
     "text": [
      "test_calculate_biased_exponent (__main__.TestConvert.test_calculate_biased_exponent) ... ok\n",
      "test_convert_binary_to_decimal (__main__.TestConvert.test_convert_binary_to_decimal) ... ok\n",
      "test_convert_decimal_to_binary (__main__.TestConvert.test_convert_decimal_to_binary) ... ok\n",
      "test_convert_fraction_to_binary (__main__.TestConvert.test_convert_fraction_to_binary) ... ok\n",
      "test_convert_ieee754_representation_to_negative_decimal (__main__.TestConvert.test_convert_ieee754_representation_to_negative_decimal) ... ok\n",
      "test_convert_ieee754_representation_to_positive_decimal (__main__.TestConvert.test_convert_ieee754_representation_to_positive_decimal) ... ok\n",
      "test_convert_integer_to_binary (__main__.TestConvert.test_convert_integer_to_binary) ... ok\n",
      "test_ieee754_out_of_bounds_exponent (__main__.TestConvert.test_ieee754_out_of_bounds_exponent) ... ok\n",
      "test_ieee754_rounded_representation (__main__.TestConvert.test_ieee754_rounded_representation) ... ok\n",
      "test_ieee754_truncated_representation (__main__.TestConvert.test_ieee754_truncated_representation) ... ok\n",
      "test_normalize_binary (__main__.TestConvert.test_normalize_binary) ... ok\n",
      "\n",
      "----------------------------------------------------------------------\n",
      "Ran 11 tests in 0.013s\n",
      "\n",
      "OK\n"
     ]
    },
    {
     "name": "stdout",
     "output_type": "stream",
     "text": [
      "Sign bit: |1|, Biased exponent bits: |110|, Mantissa bits: |1011|\n",
      "Sign bit: |0|, Biased exponent bits: |1010|, Mantissa bits: |110|\n"
     ]
    }
   ],
   "source": [
    "import unittest\n",
    "\n",
    "class TestConvert(unittest.TestCase):\n",
    "    def test_convert_integer_to_binary(self):\n",
    "        self.assertEqual(convert_decimal_to_binary(13, 5), '1101')\n",
    "\n",
    "    def test_convert_fraction_to_binary(self):\n",
    "        self.assertEqual(convert_decimal_to_binary(0.9, 5), '0.11100')\n",
    "\n",
    "    def test_convert_decimal_to_binary(self):\n",
    "        self.assertEqual(convert_decimal_to_binary(13.9, 5), '1101.11100')\n",
    "    \n",
    "    def test_convert_binary_to_decimal(self):\n",
    "        self.assertEqual(convert_binary_to_decimal('110'), 6)\n",
    "\n",
    "    def test_normalize_binary(self):\n",
    "        self.assertEqual(normalize_binary('1101.11100'), ('1.10111100', 3))\n",
    "\n",
    "    def test_calculate_biased_exponent(self):\n",
    "        self.assertEqual(calculate_biased_exponent(3, -3), 6)\n",
    "    \n",
    "    def test_ieee754_truncated_representation(self):\n",
    "        self.assertEqual(convert_decimal_to_ieee754_representation(-13.9, 5, -3, 4, False), '11101011')\n",
    "        \n",
    "    def test_ieee754_rounded_representation(self):\n",
    "        self.assertEqual(convert_decimal_to_ieee754_representation(-13.9, 5, -3, 4), '11101100')\n",
    "    \n",
    "    def test_ieee754_out_of_bounds_exponent(self):\n",
    "        with self.assertRaises(ValueError):\n",
    "            convert_decimal_to_ieee754_representation(-13.9, 1, -1, 2, False)\n",
    "            \n",
    "    def test_convert_ieee754_representation_to_negative_decimal(self):\n",
    "        self.assertEqual(convert_ieee754_representation_to_decimal('11101011', 5, -3), -13.5)\n",
    "    \n",
    "    def test_convert_ieee754_representation_to_positive_decimal(self):\n",
    "        self.assertEqual(convert_ieee754_representation_to_decimal(convert_decimal_to_ieee754_representation(13.9, 4, -7, 8, True), 4, -7), 14)\n",
    "        \n",
    "        \n",
    "def run_tests(test_class):\n",
    "    suite = unittest.TestLoader().loadTestsFromTestCase(test_class)\n",
    "    unittest.TextTestRunner(verbosity=2).run(suite)\n",
    "    \n",
    "run_tests(TestConvert)"
   ]
  },
  {
   "cell_type": "code",
   "execution_count": 136,
   "id": "821e6a4a-5aaf-45b9-9d17-6fffe7a42c14",
   "metadata": {
    "tags": []
   },
   "outputs": [
    {
     "name": "stdout",
     "output_type": "stream",
     "text": [
      "1.1102230246251565e-16 53\n"
     ]
    }
   ],
   "source": [
    "u=1\n",
    "t=0\n",
    "while u+1>1:\n",
    "    u=u/2\n",
    "    t=t+1\n",
    "print(u,t)"
   ]
  },
  {
   "cell_type": "code",
   "execution_count": 138,
   "id": "3719dfc0-c4d3-4117-a37a-96c81df77cf9",
   "metadata": {
    "tags": []
   },
   "outputs": [
    {
     "name": "stdout",
     "output_type": "stream",
     "text": [
      "True\n"
     ]
    }
   ],
   "source": [
    "print(1/2*2**(1-t)==u)"
   ]
  },
  {
   "cell_type": "code",
   "execution_count": null,
   "id": "cf26cc6f-5e52-4822-b4e2-eee6356c1913",
   "metadata": {},
   "outputs": [],
   "source": []
  }
 ],
 "metadata": {
  "kernelspec": {
   "display_name": "Python 3 (ipykernel)",
   "language": "python",
   "name": "python3"
  },
  "language_info": {
   "codemirror_mode": {
    "name": "ipython",
    "version": 3
   },
   "file_extension": ".py",
   "mimetype": "text/x-python",
   "name": "python",
   "nbconvert_exporter": "python",
   "pygments_lexer": "ipython3",
   "version": "3.11.4"
  }
 },
 "nbformat": 4,
 "nbformat_minor": 5
}
