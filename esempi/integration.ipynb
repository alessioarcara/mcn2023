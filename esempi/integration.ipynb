{
 "cells": [
  {
   "cell_type": "code",
   "execution_count": 277,
   "id": "3812047a-4edb-4567-9acb-7e966616bd6a",
   "metadata": {
    "tags": []
   },
   "outputs": [],
   "source": [
    "import numpy as np\n",
    "\n",
    "def trap_sing(a, b, fa, fb):\n",
    "    h = (b - a)\n",
    "    I = (h / 2) * (fa + fb)\n",
    "    return I\n",
    "\n",
    "def simp_sing(a, b, fa, fm, fb):\n",
    "    h = (b - a) / 2\n",
    "    I = (h / 3) * (fa+4*fm+fb)\n",
    "    return I\n",
    "\n",
    "def trap_comp(fn, a, b, m):\n",
    "    h = (b - a) / m\n",
    "    x = np.linspace(a, b, m+1)\n",
    "    y = fn(x)\n",
    "    I = h * (0.5 * (y[0] + y[-1]) + np.sum(y[1:m]))\n",
    "    return I\n",
    "\n",
    "def simp_comp(fn, a, b, m):\n",
    "    n = m if m % 2 == 0 else m + 1\n",
    "    if m % 2 != 0:\n",
    "        print(\"Arrotondato m al primo intero pari superiore\")\n",
    "    h = (b - a) / n\n",
    "    x = np.linspace(a, b, n+1)\n",
    "    y = fn(x)\n",
    "    I = h / 3 * (y[0] + y[-1] + 4 * np.sum(y[1:n:2]) + 2 * np.sum(y[2:n:2]))\n",
    "    return I\n",
    "\n",
    "def trap_adapt(fn, a, b, fa, fb, tol, tab):\n",
    "    m = 0.5*(a+b)\n",
    "    fm = fn(m)\n",
    "    tam = trap_sing(a, m, fa, fm)\n",
    "    tmb = trap_sing(m, b, fm, fb)\n",
    "\n",
    "    if math.fabs(tab - tam - tmb) / 3 < tol:\n",
    "        return (4*(tam+tmb)-tab)/3 # Estrapolazione di Richardson\n",
    "    else:\n",
    "        return (trap_adapt(fn, a, m, fa, fm, 0.5*tol, tam) + \n",
    "                trap_adapt(fn, m, b, fm, fb, 0.5*tol, tmb))\n",
    "\n",
    "def simp_adapt(fn, a, m, b, fa, fm, fb, tol, sab):\n",
    "    m1 = 0.5*(a+m)\n",
    "    m2 = 0.5*(m+b)\n",
    "    fm1 = fn(m1)\n",
    "    fm2 = fn(m2)\n",
    "    sam = simp_sing(a, m, fa, fm1, fm)\n",
    "    smb = simp_sing(m, b, fm, fm2, fb)\n",
    "    \n",
    "    if math.fabs(sab - sam - smb) / 15 < tol:\n",
    "        return (16*(sam+smb) - sab)/15 # Estrapolazione di Richardson\n",
    "    else:\n",
    "        return (simp_adapt(fn, a, m1, m, fa, fm1, fm, 0.5*tol, sam) + \n",
    "                simp_adapt(fn, m, m2, b, fm, fm2, fb, 0.5*tol, smb))\n",
    "\n",
    "def find_m(fn, approx_fn, a, b, exact_value, tolerance, m=2, steps=None):\n",
    "    if steps is None:\n",
    "        steps = []\n",
    "    \n",
    "    AI = approx_fn(fn, a, b, m)\n",
    "    error_estimate = abs(AI - exact_value)\n",
    "    steps.append((m, error_estimate))\n",
    "    \n",
    "    if error_estimate < tolerance:\n",
    "        return steps\n",
    "    \n",
    "    return find_m(fn, approx_fn, a, b, exact_value, tolerance, m + 1, steps)"
   ]
  },
  {
   "cell_type": "code",
   "execution_count": 282,
   "id": "476728c3-0bca-4de4-a9e2-9076736e8f4c",
   "metadata": {
    "tags": []
   },
   "outputs": [
    {
     "name": "stderr",
     "output_type": "stream",
     "text": [
      "test_find_m (__main__.TestIntegration.test_find_m) ... ok\n",
      "test_simp_adapt (__main__.TestIntegration.test_simp_adapt) ... ok\n",
      "test_simpson_comp (__main__.TestIntegration.test_simpson_comp) ... ok\n",
      "test_trap_adapt (__main__.TestIntegration.test_trap_adapt) ... ok\n",
      "test_trap_comp (__main__.TestIntegration.test_trap_comp) ... ok\n",
      "\n",
      "----------------------------------------------------------------------\n",
      "Ran 5 tests in 0.006s\n",
      "\n",
      "OK\n"
     ]
    }
   ],
   "source": [
    "import math\n",
    "import scipy.integrate as integrate\n",
    "import unittest\n",
    "\n",
    "class TestIntegration(unittest.TestCase):    \n",
    "    def test_trap_comp(self):\n",
    "        result = trap_comp(lambda x: 1/(1+x), 0, 1, 200)\n",
    "        self.assertAlmostEqual(result, 0.693147, places=5)\n",
    "    \n",
    "    def test_simpson_comp(self):\n",
    "        result = simp_comp(lambda x: 1/(1+x), 0, 1, 8)\n",
    "        self.assertAlmostEqual(result, 0.69315, places=5)\n",
    "        \n",
    "    def test_find_m(self):\n",
    "        fn = lambda x: 1/(1+x)\n",
    "        a = 0; b = 1\n",
    "        tol = 0.5e-3\n",
    "        exact_value = integrate.quad(fn, a, b)[0]\n",
    "        steps = find_m(fn, trap_comp, a, b, exact_value, tol)\n",
    "        self.assertEqual(steps[-1][0], 12)\n",
    "        \n",
    "    def test_trap_adapt(self):\n",
    "        fn = lambda x: math.e ** math.sin(x)\n",
    "        a = 0; b = 1 \n",
    "        fa = fn(a) ; fb = fn(b)\n",
    "        result = trap_adapt(fn, a, b, fa, fb, 1e-5, trap_sing(a, b, fa, fb))\n",
    "        self.assertAlmostEqual(result, 1.63186, delta=1e-5)\n",
    "        \n",
    "    def test_simp_adapt(self):\n",
    "        fn = lambda x: math.e ** math.sin(x)\n",
    "        a = 0; b = 1 ; m = (b-a)/2;  \n",
    "        fa = fn(a) ; fm = fn(m); fb = fn(b)\n",
    "        result = simp_adapt(fn, a, m, b, fa, fm, fb, 1e-5, simp_sing(a, b, fa, fm, fb))\n",
    "        self.assertAlmostEqual(result, 1.63186, delta=1e-5)\n",
    "        \n",
    "def run_tests(test_class):\n",
    "    suite = unittest.TestLoader().loadTestsFromTestCase(test_class)\n",
    "    unittest.TextTestRunner(verbosity=2).run(suite)\n",
    "    \n",
    "run_tests(TestIntegration)"
   ]
  },
  {
   "cell_type": "code",
   "execution_count": 269,
   "id": "734a5a91-aedb-4abd-8759-9547511de686",
   "metadata": {
    "tags": []
   },
   "outputs": [
    {
     "data": {
      "text/plain": [
       "[<matplotlib.lines.Line2D at 0x165088e50>]"
      ]
     },
     "execution_count": 269,
     "metadata": {},
     "output_type": "execute_result"
    },
    {
     "data": {
      "image/png": "[encoded data removed]",
      "text/plain": [
       "<Figure size 640x480 with 1 Axes>"
      ]
     },
     "metadata": {},
     "output_type": "display_data"
    }
   ],
   "source": [
    "import matplotlib.pyplot as plt\n",
    "\n",
    "steps = find_m(lambda x: 1/(1+x), trapezi_comp, 0, 1, 0.693147, 0.5e-3)\n",
    "\n",
    "plt.plot([step[1] for step in steps])"
   ]
  },
  {
   "cell_type": "code",
   "execution_count": null,
   "id": "e956ffde-8763-4e92-ad32-fbff7a9c4ad5",
   "metadata": {},
   "outputs": [],
   "source": []
  }
 ],
 "metadata": {
  "kernelspec": {
   "display_name": "Python 3 (ipykernel)",
   "language": "python",
   "name": "python3"
  },
  "language_info": {
   "codemirror_mode": {
    "name": "ipython",
    "version": 3
   },
   "file_extension": ".py",
   "mimetype": "text/x-python",
   "name": "python",
   "nbconvert_exporter": "python",
   "pygments_lexer": "ipython3",
   "version": "3.11.4"
  }
 },
 "nbformat": 4,
 "nbformat_minor": 5
}
