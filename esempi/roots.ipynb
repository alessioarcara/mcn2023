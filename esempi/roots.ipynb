{
 "cells": [
  {
   "cell_type": "markdown",
   "id": "7a04ca02-60ba-46fa-9dcd-94efaba76fae",
   "metadata": {},
   "source": [
    "Queste funzioni fanno uso della variabile u che\n",
    "corrisponde all'unita’ di arrotondamento."
   ]
  },
  {
   "cell_type": "code",
   "execution_count": 50,
   "id": "83caf3aa-7e25-4820-b89d-d6de343b4041",
   "metadata": {
    "tags": []
   },
   "outputs": [],
   "source": [
    "import sys\n",
    "u = sys.float_info.epsilon\n",
    "real_min = sys.float_info.min"
   ]
  },
  {
   "cell_type": "code",
   "execution_count": 85,
   "id": "6e499990-e454-45e2-8d58-1eddd83f35d9",
   "metadata": {
    "tags": []
   },
   "outputs": [],
   "source": [
    "import math\n",
    "\n",
    "def bisez(fn, a, b, tol):\n",
    "    if a<0 and b>0 and fn(0) == 0:\n",
    "        return 0\n",
    "    while abs(b-a) > 2*u*(min(abs(a), abs(b)))+tol:\n",
    "        m = (a+b) / 2\n",
    "        fm = fn(m)\n",
    "        if fn(a)*fm < 0:\n",
    "            b=m\n",
    "        else:\n",
    "            a=m\n",
    "    return (a+b)/2\n",
    "\n",
    "def false_position(fn, a, b, tol):\n",
    "    prev_y = None\n",
    "    fa = fn(a)\n",
    "    fb = fn(b)\n",
    "    while True:\n",
    "        y = b - (fb * (b - a)) / (fb - fa)\n",
    "        if prev_y is not None and abs(y-prev_y) < 2*u*(min(abs(y),abs(prev_y)))+tol:\n",
    "            return y\n",
    "        fy = fn(y)\n",
    "        if fa*fy < 0:\n",
    "            b=y\n",
    "            fb=fy\n",
    "        else:\n",
    "            a=y\n",
    "            fa=fy\n",
    "        prev_y = y\n",
    "        \n",
    "def newton(fn, fn_p, x0, tol):\n",
    "    n=0\n",
    "    max_iter=50\n",
    "    small_real = 100*real_min\n",
    "    \n",
    "    x_next = x0\n",
    "    x_curr = x0 + 1\n",
    "    while abs(x_next - x_curr) > 2*u*min(abs(x_next), abs(x_curr))+tol and n < max_iter:\n",
    "        x_curr = x_next\n",
    "        fx_curr = fn(x_curr)\n",
    "        if abs(fx_curr)>=small_real:\n",
    "            x_next = x_curr - (fx_curr / fn_p(x_curr))\n",
    "            n=n+1\n",
    "    return x_next\n",
    "\n",
    "def secant(fn, x0, x1, tol):\n",
    "    n=0\n",
    "    max_iter=50\n",
    "    small_real=100*real_min\n",
    "    \n",
    "    x_next = x1\n",
    "    x_curr = x0\n",
    "    fx_curr = fn(x0)\n",
    "    while abs(x_next - x_curr) > 2*u*min(abs(x_next), abs(x_curr)) and n < max_iter:\n",
    "        x_prev = x_curr\n",
    "        fx_prev = fx_curr\n",
    "        x_curr = x_next\n",
    "        fx_curr = fn(x_curr)\n",
    "        if (abs(fx_curr)>=small_real):\n",
    "            x_next = x_curr - fx_curr * (x_curr-x_prev) / (fx_curr-fx_prev)\n",
    "            n=n+1\n",
    "    return x_next"
   ]
  },
  {
   "cell_type": "code",
   "execution_count": 87,
   "id": "6b1b49b7-f7e1-4d55-8938-74c1d58e07d9",
   "metadata": {
    "tags": []
   },
   "outputs": [
    {
     "name": "stderr",
     "output_type": "stream",
     "text": [
      "test_bisez (__main__.TestRoots.test_bisez) ... ok\n",
      "test_false_position (__main__.TestRoots.test_false_position) ... ok\n",
      "test_newton (__main__.TestRoots.test_newton) ... ok\n",
      "test_secant (__main__.TestRoots.test_secant) ... ok\n",
      "\n",
      "----------------------------------------------------------------------\n",
      "Ran 4 tests in 0.004s\n",
      "\n",
      "OK\n"
     ]
    }
   ],
   "source": [
    "import unittest\n",
    "\n",
    "class TestRoots(unittest.TestCase):\n",
    "    def assert_root(self, fn, approx_method, a, b, tol=1e-10):\n",
    "        root = fn(approx_method(fn, a, b, tol))\n",
    "        self.assertAlmostEqual(root, 0, delta=tol*10)\n",
    "    \n",
    "    def assert_secant_root(self, fn, x0, x1, tol):\n",
    "        root = fn(secant(fn, x0, x1, tol))\n",
    "        self.assertAlmostEqual(root, 0, delta=tol*10)\n",
    "    \n",
    "    def test_bisez(self):\n",
    "        self.assert_root(lambda x: (4*x-7)/(x-2), bisez, 1, 1.9)\n",
    "        self.assert_root(lambda x: math.sin(x) - x, bisez, -1, 1)\n",
    "    \n",
    "    def test_false_position(self):\n",
    "        self.assert_root(lambda x: x**3 - x - 2, false_position, 1, 2)\n",
    "        self.assert_root(lambda x: math.exp(x) - 3, false_position, 0, 2)\n",
    "        \n",
    "    def test_newton(self):\n",
    "        fn = lambda x: x**3 -2*x + 2\n",
    "        fn_p = lambda x: 3*x**2 -2\n",
    "        x0 = -2\n",
    "        tol = 1e-6\n",
    "        root = fn(newton(fn, fn_p, x0, tol))\n",
    "        self.assertAlmostEqual(root, 0, delta=tol*10)\n",
    "        \n",
    "    def test_secant(self):\n",
    "        self.assert_secant_root(lambda x: x**3 - 2*x + 2, -2, 1, 1e-6)\n",
    "        self.assert_secant_root(lambda x: x**2 - 4, 0, 3, 1e-6)\n",
    "        self.assert_secant_root(lambda x: math.exp(x) - 3, 0, 2, 1e-6)\n",
    "\n",
    "        \n",
    "def run_tests(test_class):\n",
    "    suite = unittest.TestLoader().loadTestsFromTestCase(test_class)\n",
    "    unittest.TextTestRunner(verbosity=2).run(suite)\n",
    "    \n",
    "run_tests(TestRoots)"
   ]
  },
  {
   "cell_type": "code",
   "execution_count": 71,
   "id": "7e2cf40f-7912-4558-a424-a39b9d0bda6a",
   "metadata": {
    "tags": []
   },
   "outputs": [
    {
     "data": {
      "text/plain": [
       "2.1666669845581055"
      ]
     },
     "execution_count": 71,
     "metadata": {},
     "output_type": "execute_result"
    }
   ],
   "source": [
    "fn = lambda x: 2*3*(x - 3) + (3)**2 - 4\n",
    "x_star = bisez(fn, 0, 3, 1e-5)\n",
    "x_star"
   ]
  }
 ],
 "metadata": {
  "kernelspec": {
   "display_name": "Python 3 (ipykernel)",
   "language": "python",
   "name": "python3"
  },
  "language_info": {
   "codemirror_mode": {
    "name": "ipython",
    "version": 3
   },
   "file_extension": ".py",
   "mimetype": "text/x-python",
   "name": "python",
   "nbconvert_exporter": "python",
   "pygments_lexer": "ipython3",
   "version": "3.11.4"
  }
 },
 "nbformat": 4,
 "nbformat_minor": 5
}
