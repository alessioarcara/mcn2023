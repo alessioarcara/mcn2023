{
 "cells": [
  {
   "cell_type": "code",
   "execution_count": 1,
   "id": "8aba37e2-12a0-41b3-a66b-6c7b3cc15d42",
   "metadata": {
    "tags": []
   },
   "outputs": [],
   "source": [
    "import math\n",
    "from find_machine_epsilon import find_machine_epsilon\n",
    "\n",
    "u = find_machine_epsilon()\n",
    "\n",
    "def bisez(fn, a, b, tol):\n",
    "    if a<0 and b>0 and fn(0) == 0:\n",
    "        return 0\n",
    "    while abs(b-a) > 2*u*(min(abs(a), abs(b)))+tol:\n",
    "        m = (a+b) / 2\n",
    "        fm = fn(m)\n",
    "        if fn(a)*fm < 0:\n",
    "            b=m\n",
    "        else:\n",
    "            a=m\n",
    "    return (a+b)/2\n",
    "\n",
    "def false_position(fn, a, b, tol):\n",
    "    prev_y = None\n",
    "    fa = fn(a)\n",
    "    fb = fn(b)\n",
    "    while True:\n",
    "        y = b - (fb * (b - a)) / (fb - fa)\n",
    "        if prev_y is not None and abs(y-prev_y) < 2*u*(min(abs(y),abs(prev_y)))+tol:\n",
    "            return y\n",
    "        fy = fn(y)\n",
    "        if fa*fy < 0:\n",
    "            b=y\n",
    "            fb=fy\n",
    "        else:\n",
    "            a=y\n",
    "            fa=fy\n",
    "        prev_y = y"
   ]
  },
  {
   "cell_type": "code",
   "execution_count": 6,
   "id": "6b1b49b7-f7e1-4d55-8938-74c1d58e07d9",
   "metadata": {
    "tags": []
   },
   "outputs": [
    {
     "name": "stderr",
     "output_type": "stream",
     "text": [
      "test_bisez (__main__.TestRoots.test_bisez) ... ok\n",
      "test_false_position (__main__.TestRoots.test_false_position) ... ok\n",
      "\n",
      "----------------------------------------------------------------------\n",
      "Ran 2 tests in 0.006s\n",
      "\n",
      "OK\n"
     ]
    }
   ],
   "source": [
    "import unittest\n",
    "\n",
    "class TestRoots(unittest.TestCase):\n",
    "    def assertRoot(self, fn, approx_method, a, b, tol=1e-10):\n",
    "        root = fn(approx_method(fn, a, b, tol))\n",
    "        self.assertAlmostEqual(root, 0, delta=tol*10)\n",
    "    \n",
    "    def test_bisez(self):\n",
    "        self.assertRoot(lambda x: (4*x-7)/(x-2), bisez, 1, 1.9)\n",
    "        self.assertRoot(lambda x: math.sin(x) - x, bisez, -1, 1)\n",
    "    \n",
    "    def test_false_position(self):\n",
    "        self.assertRoot(lambda x: x**3 - x - 2, false_position, 1, 2)\n",
    "        self.assertRoot(lambda x: math.exp(x) - 3, false_position, 0, 2)\n",
    "\n",
    "def run_tests(test_class):\n",
    "    suite = unittest.TestLoader().loadTestsFromTestCase(test_class)\n",
    "    unittest.TextTestRunner(verbosity=2).run(suite)\n",
    "    \n",
    "run_tests(TestRoots)"
   ]
  },
  {
   "cell_type": "code",
   "execution_count": 10,
   "id": "7e2cf40f-7912-4558-a424-a39b9d0bda6a",
   "metadata": {
    "tags": []
   },
   "outputs": [
    {
     "data": {
      "text/plain": [
       "2.1666669845581055"
      ]
     },
     "execution_count": 10,
     "metadata": {},
     "output_type": "execute_result"
    }
   ],
   "source": [
    "fn = lambda x: 2*3*(x - 3) + (3)**2 - 4\n",
    "x_star = bisez(fn, 0, 3, 1e-5)\n",
    "x_star"
   ]
  },
  {
   "cell_type": "code",
   "execution_count": null,
   "id": "6be06384-04d4-4643-8b8f-8c722354a0d7",
   "metadata": {},
   "outputs": [],
   "source": []
  }
 ],
 "metadata": {
  "kernelspec": {
   "display_name": "Python 3 (ipykernel)",
   "language": "python",
   "name": "python3"
  },
  "language_info": {
   "codemirror_mode": {
    "name": "ipython",
    "version": 3
   },
   "file_extension": ".py",
   "mimetype": "text/x-python",
   "name": "python",
   "nbconvert_exporter": "python",
   "pygments_lexer": "ipython3",
   "version": "3.11.4"
  }
 },
 "nbformat": 4,
 "nbformat_minor": 5
}
