{
 "cells": [
  {
   "cell_type": "code",
   "execution_count": 2,
   "id": "9f36c7bd-e247-418d-a2f1-0244ded67f49",
   "metadata": {
    "tags": []
   },
   "outputs": [],
   "source": [
    "cd ('./esercitazione_8')"
   ]
  },
  {
   "cell_type": "markdown",
   "id": "a365b36e-de55-4d7a-b9f9-c15f18242cbd",
   "metadata": {},
   "source": [
    "# Esercitazione 8: Fattorizzazione LU\n",
    "\n",
    "Nella cartella sono presenti alcune function che se richiamate restituiscono una matrice $n \\times n$ non singolare che può essere utilizzata come matrice test per un sistema lineare $Ax = b$. \n",
    "Come metodologia di lavoro si proceda definendo il vettore $x \\in R^n$ (per esempio $x = (1,1,\\ldots,1)^T$) e si determini $b$ affinché la soluzione del sistema sia il vettore $x$, così da conoscerne la soluzione esatta."
   ]
  },
  {
   "cell_type": "markdown",
   "id": "ded0c7ba-730f-4339-aec6-3f0596582bad",
   "metadata": {
    "tags": []
   },
   "source": [
    "## A. Function lu di Matlab/Octave\n",
    "Completare lo script/function `main_linsys.m` che definito un sistema lineare $Ax = b$, lo risolve nei due seguenti modi:\n",
    "* utilizzando l’operatore ”left-division” di Matlab/Octave;\n",
    "* utilizzando la function di Matlab/Octave lu che implementa la fattorizzazione di Gauss con scambio delle righe e perno massimo. Più precisamente:\n",
    "```pseudo\n",
    "     [L,U]=lu(A)\n",
    "     [L,U,P]=lu(A)\n",
    "```\n",
    "(vedere help lu) quindi si usino le function `lsolve.m` e `usolve.m` presenti nella cartella per risolvere i sistemi\n",
    "\n",
    "$$Ly = Pb$$ \n",
    "$$Ux = y$$\n"
   ]
  },
  {
   "cell_type": "code",
   "execution_count": 103,
   "id": "9b010e76-5f61-4461-8867-df6cc7151d7e",
   "metadata": {
    "tags": []
   },
   "outputs": [
    {
     "name": "stdout",
     "output_type": "stream",
     "text": [
      " LU     LU factorization.\n",
      "    [L,U] = LU(A) returns an upper triangular matrix in U and a permuted\n",
      "    lower triangular matrix in L, such that A = L*U. The input matrix A can\n",
      "    be full or sparse.\n",
      " \n",
      "    [L,U,P] = LU(A) returns unit lower triangular matrix L, upper\n",
      "    triangular matrix U, and permutation matrix P such that P*A = L*U.\n",
      " \n",
      "    [L,U,P] = LU(A, outputForm) returns P in the form specified by\n",
      "    outputForm:\n",
      "        'matrix' - (default) P is a matrix such that P*A = L*U. \n",
      "        'vector' - P is a vector such that A(P,:) = L*U.\n",
      " \n",
      "    The following syntaxes *only* apply for a sparse input matrix A:\n",
      " \n",
      "    [L,U,P,Q] = LU(A) returns unit lower triangular matrix L, upper\n",
      "    triangular matrix U, and row/column permutation matrices P and Q such\n",
      "    that P*A*Q = L*U. For sparse matrices this is significantly more time\n",
      "    and memory efficient than the three-output syntax.\n",
      " \n",
      "    [L,U,P,Q,D] = LU(A) also returns a diagonal scaling matrix D such that\n",
      "    P*(D\\A)*Q = L*U for sparse A. Typically, the row-scaling leads to a\n",
      "    sparser and more stable factorization. Note that this is the\n",
      "    factorization used by sparse MLDIVIDE.\n",
      " \n",
      "    [___] = LU(A,THRESH) specifies the pivoting strategy employed by LU.\n",
      "    THRESH is a scalar or two-element vector with values in [0 1].\n",
      "    Increasing the value of THRESH tends to lead to higher accuracy, but\n",
      "    typically at a greater cost in time and memory. Depending on the number\n",
      "    of output arguments specified, the default value and requirements for\n",
      "    the thresh input are different:\n",
      "      * If 3 or fewer outputs are specified, then THRESH is a scalar. The\n",
      "        default value is 1.0.\n",
      "      * If 4 or more outputs are specified, then THRESH is a two-element\n",
      "        vector. The default value is [0.1 0.001].\n",
      " \n",
      "    [___] = LU(___, outputForm) specifies the output form of P and Q. Use\n",
      "    this option to return P and Q as vectors instead of matrices. P and Q\n",
      "    satisfy different identities depending on the number of outputs\n",
      "    specified and whether they are matrices or vectors:\n",
      "      With 4 outputs:\n",
      "        'matrix' - (default) P is a matrix such that P*A*Q = L*U.\n",
      "        'vector' - P is a vector such that A(P,Q) = L*U.\n",
      "      With 5 outputs:\n",
      "        'matrix' - (default) P is a matrix such that P*(D\\A)*Q = L*U.\n",
      "        'vector' - P is a vector such that D(:,P)\\A(:,Q) = L*U.\n",
      " \n",
      "    See also QR, CHOL, ILU, MLDIVIDE, DECOMPOSITION, INV, COND.\n",
      "\n"
     ]
    }
   ],
   "source": [
    "help lu"
   ]
  },
  {
   "cell_type": "code",
   "execution_count": 3,
   "id": "261a83e6-d7d0-45bf-a42c-f24bacc1316a",
   "metadata": {},
   "outputs": [
    {
     "data": {
      "text/html": [
       "<html><body><pre>A = 3x3 double\n",
       "     4    -8     2\n",
       "     2    -4     6\n",
       "     1    -1     3\n",
       "</pre></body></html>"
      ],
      "text/plain": [
       "A = 3x3 double\n",
       "     4    -8     2\n",
       "     2    -4     6\n",
       "     1    -1     3\n"
      ]
     },
     "execution_count": 3,
     "metadata": {},
     "output_type": "execute_result"
    },
    {
     "data": {
      "text/html": [
       "<html><body><pre>b = 3x1 double\n",
       "    -2\n",
       "     4\n",
       "     3\n",
       "</pre></body></html>"
      ],
      "text/plain": [
       "b = 3x1 double\n",
       "    -2\n",
       "     4\n",
       "     3\n"
      ]
     },
     "execution_count": 3,
     "metadata": {},
     "output_type": "execute_result"
    },
    {
     "name": "stdout",
     "output_type": "stream",
     "text": [
      "     4    -8     2\n",
      "     2    -4     6\n",
      "     1    -1     3\n",
      "\n",
      "    -2\n",
      "     4\n",
      "     3\n",
      "\n"
     ]
    },
    {
     "data": {
      "text/html": [
       "<html><body><pre>xld = 3x1 double\n",
       "     1\n",
       "     1\n",
       "     1\n",
       "</pre></body></html>"
      ],
      "text/plain": [
       "xld = 3x1 double\n",
       "     1\n",
       "     1\n",
       "     1\n"
      ]
     },
     "execution_count": 3,
     "metadata": {},
     "output_type": "execute_result"
    },
    {
     "name": "stdout",
     "output_type": "stream",
     "text": [
      "Errori\n",
      " * left division: 0.000000e+00,\n",
      " * LU (no pivoting): NaN,\n",
      " * LU (con pivoting): 0.000000e+00"
     ]
    }
   ],
   "source": [
    "main_linsys"
   ]
  },
  {
   "cell_type": "code",
   "execution_count": 66,
   "id": "9ef2a0d4-29c4-4714-a02b-10b1599ae3af",
   "metadata": {
    "tags": []
   },
   "outputs": [
    {
     "name": "stdout",
     "output_type": "stream",
     "text": [
      " NORM   Vector and matrix norms.\n",
      "    N = NORM(V) returns the 2-norm or Euclidean norm of the vector V and is\n",
      "    the same as NORM(V,2).\n",
      " \n",
      "    N = NORM(V,p) returns the generalized vector p-norm.\n",
      "    * If p is a positive real scalar, the p-norm is defined as\n",
      "      SUM(ABS(V).^p)^(1/p).\n",
      "    * If p = Inf, then N is the largest element of ABS(V).\n",
      "    * If p = -Inf, then N is the smallest element of ABS(V).\n",
      " \n",
      "    N = NORM(M) returns the 2-norm of the matrix M, which is same as\n",
      "    NORM(M,2), and is defined by the largest singular value.\n",
      " \n",
      "    N = NORM(M,p) returns the p-norm of the matrix M, where p is 1, 2, or\n",
      "    Inf.\n",
      "    * If p = 1, then N is the maximum absolute column sum in M.\n",
      "    * If p = 2, then N is the maximum singular value of M.\n",
      "    * If p = Inf, then N is the maximum absolute row sum of M.\n",
      " \n",
      "    N = NORM(X,\"fro\") returns the Frobenius norm of any numeric array X.\n",
      "    Notice that the Frobenius norm for vectors is equivalent to the 2-norm.\n",
      "    For N-D arrays, only the Frobenius norm is supported via NORM.\n",
      " \n",
      "    By convention, NaN is returned if the first input contains NaNs.\n",
      " \n",
      "    See also vecnorm, pagenorm, normest, normalize, cond, hypot.\n",
      "\n",
      "    Other uses of norm\n",
      "\n",
      "       tall/norm\n",
      "\n"
     ]
    }
   ],
   "source": [
    "help norm"
   ]
  },
  {
   "cell_type": "markdown",
   "id": "a73b4720-9ca4-45ee-9999-496ccbd4fc57",
   "metadata": {
    "jp-MarkdownHeadingCollapsed": true,
    "tags": []
   },
   "source": [
    "## B. Sulla fattorizzazione LU\n",
    "Le function `LUsimple.m` e `LUmaxpiv.m` implementano rispettivamente la fattorizzazione LU di Gauss semplice (senza scambio di righe) e con scambio di righe e perno massimo.\n",
    "* Analizzare i loro codici e confrontarli con quanto visto a lezione.\n",
    "* Completare lo script `main_gauss_simple.m` per sperimentare l’algoritmo di Gauss semplice sulle matrici test presenti nella cartella e per risolvere i relativi sistemi lineari (si utilizzino le function `LUsimple.m` e `LUsimple_solve.m`).\n",
    "* Modificare lo script (lo si chiami `main_gauss_maxpiv.m`) per sperimentare l’algoritmo di Gauss con scambio delle righe e perno massimo (si utilizzino le function `LUmaxpiv.m` e `LUmaxpiv_solve.m`).\n"
   ]
  },
  {
   "cell_type": "code",
   "execution_count": 264,
   "id": "b9ade33b-0da7-4b33-bcd8-5d86dafb0dca",
   "metadata": {
    "tags": []
   },
   "outputs": [
    {
     "name": "stdout",
     "output_type": "stream",
     "text": [
      "     2     1     0\n",
      "     4     5     2\n",
      "     6    15    12\n",
      "\n",
      "     3\n",
      "    11\n",
      "    33\n",
      "\n",
      "     2     1     0\n",
      "    -2     3     2\n",
      "    -3    -4     4\n",
      "\n",
      "     1\n",
      "     1\n",
      "     1\n",
      "\n"
     ]
    }
   ],
   "source": [
    "main_gauss_simple"
   ]
  },
  {
   "cell_type": "code",
   "execution_count": 265,
   "id": "af0b488f-f7c6-4750-b3bc-83dece387218",
   "metadata": {
    "tags": []
   },
   "outputs": [
    {
     "name": "stdout",
     "output_type": "stream",
     "text": [
      "     4    -8     2\n",
      "     2    -4     6\n",
      "     1    -1     3\n",
      "\n",
      "    -2\n",
      "     4\n",
      "     3\n",
      "\n",
      "    4.0000   -8.0000    2.0000\n",
      "   -0.5000    1.0000    2.5000\n",
      "   -0.2500         0    5.0000\n",
      "\n",
      "     1\n",
      "     1\n",
      "     1\n",
      "\n"
     ]
    }
   ],
   "source": [
    "main_gauss_maxpiv"
   ]
  },
  {
   "cell_type": "markdown",
   "id": "cef923ba-2bea-4a3a-bb1c-ba65d4560844",
   "metadata": {
    "jp-MarkdownHeadingCollapsed": true,
    "tags": []
   },
   "source": [
    "## C. Sulla stabilità della fattorizzazione LU\n",
    "Si completi lo script `main_lufact.m` in modo che richiami la function lu di Matlab come nell’esercizio A (fattorizzazione LU di una matrice con scambio delle righe e perno massimo) e verifichi che:\n",
    "$$ max|l_{i,j}| \\leq 1, max|u_{i,j}| \\leq 2^{n-1} max|a_{i,j}|$$\n",
    "dove $l_{i,j}$ e $u_{i,j}$ sono gli elementi delle matrici $L$ e $U$ determinate. Si stampi una tabella con i seguenti valori per le matrici di esempio `mat_k`, $k=2,3,4,5$ di dimensioni $n = 5, 10, 50$\n",
    "\n",
    "\n",
    "| $mat_k$ | $n\\times n$ | $\\max\\lvert l_{i,j}\\rvert$ | $\\max\\lvert u_{i,j}\\rvert$ | $2^{n-1}\\max\\lvert a_{i,j}\\rvert$|\n",
    "|:-------:|:-----------:|:--------------------------:|:--------------------------:|:--------------------------------:|\n"
   ]
  },
  {
   "cell_type": "code",
   "execution_count": 126,
   "id": "74946e3e-8df8-419b-a692-47cdf17fd266",
   "metadata": {
    "tags": []
   },
   "outputs": [
    {
     "name": "stdout",
     "output_type": "stream",
     "text": [
      "mat_k  nxn         max|l_ij|     max|u_ij|    2^(n-1)max|a_ij|\n",
      "    2  5x 5         1.00000     3.33333e-01     5.33333e+00\n",
      "    3  5x 5         1.00000     3.00000e+00     4.80000e+01\n",
      "    4  5x 5         1.00000     5.00000e+00     8.00000e+01\n",
      "    5  5x 5         1.00000     1.60000e+01     1.60000e+01\n",
      "    2 10x10         1.00000     3.33333e-01     1.70667e+02\n",
      "    3 10x10         1.00000     8.00000e+00     4.09600e+03\n",
      "    4 10x10         1.00000     1.00000e+01     5.12000e+03\n",
      "    5 10x10         1.00000     5.12000e+02     5.12000e+02\n",
      "    2 50x50         1.00000     3.33333e-01     1.87650e+14\n",
      "    3 50x50         1.00000     4.80000e+01     2.70216e+16\n",
      "    4 50x50         1.00000     5.00000e+01     2.81475e+16\n",
      "    5 50x50         1.00000     5.62950e+14     5.62950e+14\n"
     ]
    }
   ],
   "source": [
    "main_lufact"
   ]
  },
  {
   "cell_type": "markdown",
   "id": "a55f4eda-af94-4d33-b583-a158aef3e4a4",
   "metadata": {
    "jp-MarkdownHeadingCollapsed": true,
    "tags": []
   },
   "source": [
    "## D. Sul condizionamento di un sistema lineare\n",
    "Si consideri la matrice H di Hilbert $n\\times n$ (function Matlab `hilb`, vedi l’help) Si calcoli b in modo che $Hx=b$, dove $x=(1,1,\\ldots,1)^T$. Si aggiunga a $b$ una perturbazione\n",
    "$$\\delta b_p = 10^{-p}rand(n, 1)$$\n",
    "Si risolva il sistema $H\\tilde{x}_p = b+\\delta b_p$, per $p = 1,\\ldots,5$ e si stampi per ogni valore\n",
    "di $p$ la seguente quantità:\n",
    "$$K_p=\\frac{\\lVert x-\\tilde{x}_p\\rVert}{\\lVert x \\rVert}\\frac{\\lVert b \\rVert}{\\lVert\\delta b_p\\rVert}$$\n",
    "I valori $K_p$ così ottenuti sono il valore effettivo sperimentale del numero di condizione della matrice $H$. Verificare che per ogni $p$ sia\n",
    "$$K_p \\leq cond(H)$$\n",
    "Lo script `main_hilb.m` implementa già quanto detto; eseguire per differenti dimensioni $n\\times n$ e analizzare i risultati.\n"
   ]
  },
  {
   "cell_type": "code",
   "execution_count": 127,
   "id": "3cc84692-11cc-4be7-8c1a-9e830b2d0579",
   "metadata": {
    "tags": []
   },
   "outputs": [
    {
     "name": "stdout",
     "output_type": "stream",
     "text": [
      " HILB   Hilbert matrix.\n",
      "    H = HILB(N) is the N-by-N matrix with elements 1/(i+j-1), which is a\n",
      "    famous example of a badly conditioned matrix. The INVHILB function\n",
      "    calculates the exact inverse.\n",
      " \n",
      "    H = HILB(N,CLASSNAME) returns a matrix of class CLASSNAME, which can be\n",
      "    either 'single' or 'double' (the default).\n",
      " \n",
      "    HILB is also a good example of efficient MATLAB programming\n",
      "    style, where conventional FOR or DO loops are replaced by\n",
      "    vectorized statements. \n",
      " \n",
      "    Example:\n",
      " \n",
      "    HILB(3) is\n",
      " \n",
      "           1.0000    0.5000    0.3333\n",
      "           0.5000    0.3333    0.2500\n",
      "           0.3333    0.2500    0.2000\n",
      " \n",
      "    See also INVHILB.\n",
      "\n"
     ]
    }
   ],
   "source": [
    "help hilb"
   ]
  },
  {
   "cell_type": "code",
   "execution_count": 263,
   "id": "b321610b-4ef0-45ab-80d2-7ca0ca5f944d",
   "metadata": {
    "tags": []
   },
   "outputs": [
    {
     "name": "stdout",
     "output_type": "stream",
     "text": [
      "condizionamento della matrice\n",
      "p= 1  Kp=   1.9141509e+05 K=   4.7660725e+05\n",
      "p= 2  Kp=   6.1273210e+04 K=   4.7660725e+05\n",
      "p= 3  Kp=   1.4280702e+04 K=   4.7660725e+05\n",
      "p= 4  Kp=   5.6770477e+04 K=   4.7660725e+05\n",
      "p= 5  Kp=   1.3070070e+05 K=   4.7660725e+05\n",
      "condizionamento della matrice\n",
      "p= 1  Kp=   1.6392810e+06 K=   1.4951059e+07\n",
      "p= 2  Kp=   4.5197280e+06 K=   1.4951059e+07\n",
      "p= 3  Kp=   3.8954470e+05 K=   1.4951059e+07\n",
      "p= 4  Kp=   3.0310151e+06 K=   1.4951059e+07\n",
      "p= 5  Kp=   8.9337192e+05 K=   1.4951059e+07\n",
      "condizionamento della matrice\n",
      "p= 1  Kp=   2.1822893e+07 K=   4.7536736e+08\n",
      "p= 2  Kp=   1.6774331e+07 K=   4.7536736e+08\n",
      "p= 3  Kp=   7.9936559e+07 K=   4.7536736e+08\n",
      "p= 4  Kp=   7.3033597e+07 K=   4.7536736e+08\n",
      "p= 5  Kp=   9.9760405e+06 K=   4.7536736e+08\n"
     ]
    }
   ],
   "source": [
    "%si vuole confrontare la stima della function cond di Matlab\n",
    "%con l'effettivo valore sperimentale del numero di condizione sulla \n",
    "%matrice test di Hilbert (function Matlab hilb) \n",
    "for n=[5 6 7]\n",
    "    x=ones(n,1);\n",
    "    H=hilb(n);\n",
    "    cH=cond(H);\n",
    "    b=H*x;\n",
    "    x=H\\b;\n",
    "    disp('condizionamento della matrice');\n",
    "    for p=1:5\n",
    "        db=10^(-p)*rand(n,1);\n",
    "        xtilde=H\\(b+db);\n",
    "        %indice di condizionamneto della matrice\n",
    "        Kp=norm(x-xtilde)/norm(x)*norm(b)/norm(db);\n",
    "        fprintf('p=%2d  Kp= %15.7e K= %15.7e\\n',p, Kp, cH);\n",
    "    end\n",
    "end"
   ]
  },
  {
   "cell_type": "markdown",
   "id": "b8fbcd33-939b-408c-a784-d4096195bae2",
   "metadata": {
    "jp-MarkdownHeadingCollapsed": true,
    "tags": []
   },
   "source": [
    "## E. Sul condizionamento delle matrici usate per l’interpolazione\n",
    "Nella cartella sono presenti le function `vandermonde.m`, `newton.m` e `bernst.m` già utilizzate nell’interpolazione polinomiale e che generano, avendo definito un vettore di punti da interpolare, le matrici del sistema lineare relativo:\n",
    "* base canonica (matrice di Vandermonde); \n",
    "* forma di Newton (matrice triangolare);\n",
    "* base di Bernstein (matrice stocastica).\n",
    "Si completi la function `main_interp.m` e si utilizzi la function Matlab/Octave cond per avere una stima del numero di condizione di tali matrici. Si confrontino i numeri di condizione ottenuti per le matrici suddette di dimensioni $n=5:5:20$ sia per punti equispaziati che di Chebyshev"
   ]
  },
  {
   "cell_type": "code",
   "execution_count": 260,
   "id": "f5ee9284-1aef-4adf-92c4-ed638495829a",
   "metadata": {
    "tags": []
   },
   "outputs": [
    {
     "name": "stdout",
     "output_type": "stream",
     "text": [
      "Punti equispaziati\n",
      "n: 5\n",
      "cond matrice vandermonde: 3.785812e+03\n",
      "cond matrice newton: 5.014679e+03\n",
      "cond matrice bernstein: 2.864205e+01\n",
      "n: 10\n",
      "cond matrice vandermonde: 3.048443e+07\n",
      "cond matrice newton: 1.107026e+07\n",
      "cond matrice bernstein: 3.040172e+03\n",
      "n: 15\n",
      "cond matrice vandermonde: 2.946178e+11\n",
      "cond matrice newton: 2.892437e+10\n",
      "cond matrice bernstein: 3.724096e+05\n",
      "n: 20\n",
      "cond matrice vandermonde: 3.123284e+15\n",
      "cond matrice newton: 7.971831e+13\n",
      "cond matrice bernstein: 4.821292e+07\n",
      "Punti di Chebyshev\n",
      "n: 5\n",
      "cond matrice vandermonde: 3.514843e+03\n",
      "cond matrice newton: 4.158828e+03\n",
      "cond matrice bernstein: 2.047344e+01\n",
      "n: 10\n",
      "cond matrice vandermonde: 1.894108e+07\n",
      "cond matrice newton: 1.640791e+07\n",
      "cond matrice bernstein: 6.415697e+02\n",
      "n: 15\n",
      "cond matrice vandermonde: 1.291008e+11\n",
      "cond matrice newton: 7.555372e+10\n",
      "cond matrice bernstein: 2.045936e+04\n",
      "n: 20\n",
      "cond matrice vandermonde: 9.370969e+14\n",
      "cond matrice newton: 3.680929e+14\n",
      "cond matrice bernstein: 6.538522e+05\n"
     ]
    }
   ],
   "source": [
    "main_interp"
   ]
  },
  {
   "cell_type": "markdown",
   "id": "8f13afe1-5393-4821-933e-84a1d36a1334",
   "metadata": {
    "jp-MarkdownHeadingCollapsed": true,
    "tags": []
   },
   "source": [
    "## F. Esercizio di verifica (Stabilità della fattorizzazione LU)\n",
    "Con riferimento alla function `LUsimple.m` e `LUmaxpiv.m` del precedente esercizio B, si completi lo script `main_stab_lufact.m` per risolve il seguente sistema lineare $Ax=b$ con\n",
    "$$\n",
    "A=\\begin{bmatrix}\n",
    "10^{-20} & 1 \\\\\n",
    "1 & 1 \n",
    "\\end{bmatrix},\\quad b=\\begin{bmatrix}\n",
    "1 \\\\ \n",
    "2\n",
    "\\end{bmatrix}\n",
    "$$\n",
    "utilizzando i due algoritmi. Si confrontino le soluzioni."
   ]
  },
  {
   "cell_type": "code",
   "execution_count": 261,
   "id": "57588cab-8281-4e0b-becc-a93373d31011",
   "metadata": {
    "tags": []
   },
   "outputs": [
    {
     "name": "stdout",
     "output_type": "stream",
     "text": [
      "    0.0000    1.0000\n",
      "    1.0000    1.0000\n",
      "\n"
     ]
    },
    {
     "data": {
      "text/html": [
       "<html><body><pre>xstar = 2x1 double\n",
       "     1\n",
       "     1\n",
       "</pre></body></html>"
      ],
      "text/plain": [
       "xstar = 2x1 double\n",
       "     1\n",
       "     1\n"
      ]
     },
     "execution_count": 261,
     "metadata": {},
     "output_type": "execute_result"
    },
    {
     "name": "stdout",
     "output_type": "stream",
     "text": [
      "Soluzione LU con pivoting\n"
     ]
    },
    {
     "data": {
      "text/html": [
       "<html><body><pre>x1 = 2x1 double\n",
       "     1\n",
       "     1\n",
       "</pre></body></html>"
      ],
      "text/plain": [
       "x1 = 2x1 double\n",
       "     1\n",
       "     1\n"
      ]
     },
     "execution_count": 261,
     "metadata": {},
     "output_type": "execute_result"
    },
    {
     "name": "stdout",
     "output_type": "stream",
     "text": [
      "fattorizzazione LU senza pivoting non riuscita\n"
     ]
    }
   ],
   "source": [
    "main_stab_lufact"
   ]
  },
  {
   "cell_type": "code",
   "execution_count": null,
   "id": "4a40dcda-eef5-47e7-a896-69d066031987",
   "metadata": {},
   "outputs": [],
   "source": []
  }
 ],
 "metadata": {
  "kernelspec": {
   "display_name": "MATLAB Kernel",
   "language": "matlab",
   "name": "jupyter_matlab_kernel"
  },
  "language_info": {
   "file_extension": ".m",
   "mimetype": "text/x-matlab",
   "name": "matlab"
  }
 },
 "nbformat": 4,
 "nbformat_minor": 5
}
