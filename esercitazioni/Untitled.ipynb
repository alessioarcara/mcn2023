{
 "cells": [
  {
   "cell_type": "code",
   "execution_count": 3,
   "id": "8a754b6d-26f9-431b-aea0-ca5b6942cf1e",
   "metadata": {
    "tags": []
   },
   "outputs": [
    {
     "name": "stderr",
     "output_type": "stream",
     "text": [
      "MATLAB Kernel Error: Invalid argument name 'regionArray'. Name must be one of these:\n",
      "    'editorId'\n",
      "    'requestId'\n",
      "    'type'\n",
      "    'startLine'\n",
      "    'endLine'\n",
      "    'fullText'\n",
      "    'fullFilePath'\n",
      "    'sectionBoundaries'\n",
      "    'shouldResetState'\n",
      "    'shouldDoFullCleanup'\n",
      "    'customExecutionData'\n",
      "    'partialEval'\n",
      "    'documentStateToken'\n"
     ]
    }
   ],
   "source": [
    ">> peaks"
   ]
  },
  {
   "cell_type": "code",
   "execution_count": 1,
   "id": "a88a1275-e545-457d-aeae-366829043795",
   "metadata": {},
   "outputs": [
    {
     "name": "stderr",
     "output_type": "stream",
     "text": [
      "MATLAB Kernel Error: Invalid argument name 'regionArray'. Name must be one of these:\n",
      "    'editorId'\n",
      "    'requestId'\n",
      "    'type'\n",
      "    'startLine'\n",
      "    'endLine'\n",
      "    'fullText'\n",
      "    'fullFilePath'\n",
      "    'sectionBoundaries'\n",
      "    'shouldResetState'\n",
      "    'shouldDoFullCleanup'\n",
      "    'customExecutionData'\n",
      "    'partialEval'\n",
      "    'documentStateToken'\n"
     ]
    }
   ],
   "source": [
    "x=5"
   ]
  },
  {
   "cell_type": "code",
   "execution_count": null,
   "id": "9698ed9c-ec27-432e-aed7-e610db996ffb",
   "metadata": {},
   "outputs": [],
   "source": []
  },
  {
   "cell_type": "code",
   "execution_count": null,
   "id": "f3e12aca-2187-473e-ae6c-d88eada31ad8",
   "metadata": {},
   "outputs": [],
   "source": []
  }
 ],
 "metadata": {
  "kernelspec": {
   "display_name": "Python 3 (ipykernel)",
   "language": "python",
   "name": "python3"
  },
  "language_info": {
   "codemirror_mode": {
    "name": "ipython",
    "version": 3
   },
   "file_extension": ".py",
   "mimetype": "text/x-python",
   "name": "python",
   "nbconvert_exporter": "python",
   "pygments_lexer": "ipython3",
   "version": "3.11.4"
  }
 },
 "nbformat": 4,
 "nbformat_minor": 5
}
