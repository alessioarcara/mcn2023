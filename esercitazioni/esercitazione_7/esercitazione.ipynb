{
 "cells": [
  {
   "cell_type": "code",
   "execution_count": 1,
   "id": "cafe9b00-e895-4b11-8f16-097e9af4b2a1",
   "metadata": {
    "tags": []
   },
   "outputs": [],
   "source": [
    "cd esercitazione_7"
   ]
  },
  {
   "cell_type": "markdown",
   "id": "99b25589-de73-433f-bffd-a22920b66fda",
   "metadata": {},
   "source": [
    "# Esercitazione 7\n",
    "\n",
    "Si considerino le seguenti funzioni test di cui si vogliono determinare gli zeri o radici dell’equazione associata (nella cartella sono presenti le function che le implementano insieme alle funzioni delle derivate prime e seconde):\n",
    "\n",
    "* zfun01 $f(x)=(4x-7)/(x-2) \\quad x\\in[1,1.9]$\n",
    "* zfun02 $f(x)=1+3/x^2 -4/x^3 \\quad x\\in[0.5,6]$\n",
    "* zfun03 $f(x)=1-2.5x+3x^2 -3x^3 +2x^4 -0.5x^5\\quad x\\in[0,3]$\n",
    "* zfun04 $f(x)=x^n -2\\quad x\\in[0,2]\\quad n=2,3,4$\n",
    "* zfun05 $f(x)=x^3 -3x+2\\quad x\\in[-2.5,2]$\n",
    "* zfun06 $f(x)=1/x-2\\quad x\\in(0,4]$\n",
    "* zfun07 $f(x)=(1-x)^3 -13/3(1-x)^2x+25/4(1-x)x^2 -3x^3\\quad x\\in[0,1]$\n",
    "* zfun08 $f(x)=x^2-x\\quad x\\in[0,1]$\n",
    "* zfun09 $f(x)=(1+(1+n)^2)x-(1-nx)^2\\quad x\\in[0,1]\\quad n=1,5,10$\n",
    "* zfun10 $f(x)=x^3-8 \\quad x\\in[0,1]$\n",
    "* zfun11 $f(x)=x^2-(1-x)^n \\quad x\\in[0,1]\\quad n=1,5,10$\n",
    "* zfun12 $f(x)=(x-1)e^{-nx} +x^n \\quad x\\in[0,1]\\quad n=1,5,10$\n",
    "* zfun13 $f(x)=1+2(xe^{-n} -e^{-nx})\\quad x\\in[0,1]\\quad n=1,5,10$\n",
    "* zfun14 $f(x)=e^x -x^2 \\quad x\\in[-2,2]$\n",
    "* zfun15 $f(x)=\\tanh(x-1)\\quad x\\in[-1,3]$\n",
    "* zfun16 $f(x)=x^{11} +4x^{2} -10\\quad x\\in[-4,4]$\n",
    "* zfun17 $f(x)=\\sin(x)-x\\quad x\\in[-1,1]$\n"
   ]
  },
  {
   "cell_type": "markdown",
   "id": "f6218934-478d-4362-ad77-79b39dc3bbca",
   "metadata": {
    "tags": []
   },
   "source": [
    "## C. Metodo di Newton e intervallo di convergenza\n",
    "La function `fun_plot.m` rappresenta graficamente la funzione test $f(x)$ e le funzioni\n",
    "$$g(x)=x-\\frac{f(x)}{f'(x)},\\quad g'(x)=\\frac{f(x)f''(x)}{[f'(x)]^2}$$\n",
    "L’obiettivo di questo esercizio è, per ogni funzione test, determinare un intervallo di convergenza per ogni suo zero. Si sfruttino i grafici mostrati ricordando che il Teorema di convergenza afferma che se $x_0$ viene preso in un intervallo in cui $\\lvert g'(x)\\rvert < 1$ allora il metodo iterativo converge.\n",
    "\n",
    "Si riesegua il codice `main_stangmet.m` per determinare uno zero di una funzione test, ma a partire da un opportuno iterato iniziale ossia nell’intervallo di convergenza."
   ]
  },
  {
   "cell_type": "markdown",
   "id": "55432e96-dacd-4e67-bd73-d416b474d0ef",
   "metadata": {},
   "source": [
    "tutte le quantità descritte sono approssimazioni\n",
    "\n",
    "| Funzione | Intervallo/i di x | Numero e posizione degli Zeri | Ordine di Convergenza |\n",
    "|----|------------------|-------------------------------|-----------------------|\n",
    "| 1  | \\(1.6 < x < 1.85\\) | 1 zero in \\(1.8\\) | 2 ordine |\n",
    "| 2  | \\(-0.6 < x < 1.25\\) \\&\\& \\(2.6 < x < 2.7\\) | 1 zero in \\(1.7\\) | 2 ordine |\n",
    "| 3  | \\(0 < x < 1.6\\) \\&\\& \\(x > 1.9\\) | 2 zeri in \\(1\\) e \\(2\\) | 1 ordine per lo zero in \\(1\\) e 2 ordine per lo zero in \\(2\\) |\n",
    "| 4  | \\(x < -0.75\\) \\&\\& \\(x > 0.75\\) | 2 zeri in \\(-1.5\\) e \\(1.5\\) | - |\n",
    "| 5  | \\(x < -2\\) \\&\\& \\(x > -0.3\\) | 2 zeri in \\(-1.1\\) e \\(1\\) | - |\n",
    "| 6  | \\(0.4 < x < 0.75\\) | 1 zero in \\(0.5\\) | 2 ordine |\n",
    "| 7  | \\(x < 0.4\\) \\&\\& \\(x > 0.41\\) | 1 zero in \\(0.4\\) | 2 ordine |\n",
    "| 8  | \\(0 < x < 1\\) | 1 zero in \\(0.65\\) | 2 ordine |\n",
    "| 9  | / | / | / |\n",
    "| 10 | / | / | / |\n",
    "| 11 | / | / | / |\n",
    "| 12 | \\(0 < x < 1\\) | 1 zero in \\(0.5\\) | 2 ordine |\n",
    "| 13 | / | / | / |\n",
    "| 14 | \\(-2 < x < 0\\) \\&\\& \\(0.6 < x < 0.75\\) | 1 zero in \\(-0.75\\) | 2 ordine |\n",
    "| 15 | \\(0.3 < x < 1.7\\) | 1 zero in \\(1\\) | 3 ordine |\n",
    "| 16 | \\(-4 < x < -1.4\\) \\&\\& \\(0.7 < x < 0.5\\) \\&\\& \\(1 < x < 4\\) | 1 zero in \\(1.1\\) | - |\n",
    "| 17 | \\(-1 < x < 1\\) | - | - |"
   ]
  },
  {
   "cell_type": "code",
   "execution_count": 155,
   "id": "fe81a09f-8e18-4289-81ed-be32ae891a39",
   "metadata": {
    "tags": []
   },
   "outputs": [
    {
     "data": {
      "image/png": "[encoded data removed]"
     },
     "execution_count": 155,
     "metadata": {},
     "output_type": "execute_result"
    }
   ],
   "source": [
    "fun_plot(6)"
   ]
  },
  {
   "cell_type": "markdown",
   "id": "b7856a6b-52c9-4c54-ac03-8d06d5b914cf",
   "metadata": {
    "jp-MarkdownHeadingCollapsed": true,
    "tags": []
   },
   "source": [
    "## D. Metodo di Newton e ordine di convergenza\n",
    "Chiamando la funzione `main_stangmet.m` con ftrace ad 1 si hanno tutti gli iterati calcolati dal metodo di Newton; si modifichi il codice (lo si chiami `main_stangmet_ordconv.m`) affinché produca una tabella con le seguenti informazioni:\n",
    "\n",
    "| $ k $ | $ x_k $ | $ e_k = x_k - x^* $ | $ \\frac{|e_{k+1}|}{|e_k|} $ | $ \\frac{|e_{k+1}|}{|e_k|^2} $ |\n",
    "|---------|-----------|------------------------|----------------------------|------------------------------|\n",
    "\n",
    "* Si analizzino i risultati delle ultime due colonne nel caso di zeri semplici o multipli della funzione test.\n",
    "* Per una delle funzioni test date il metodo di Newton determina un suo zero con ordine di convergenza 3; cosa possiamo fare per capire di che funzione si tratta?"
   ]
  },
  {
   "cell_type": "code",
   "execution_count": 151,
   "id": "0661e9b5-4355-4568-a1a6-42d69cd12fd2",
   "metadata": {
    "tags": []
   },
   "outputs": [
    {
     "data": {
      "image/png": "[encoded data removed]"
     },
     "execution_count": 151,
     "metadata": {},
     "output_type": "execute_result"
    }
   ],
   "source": [
    "funplot(15)"
   ]
  },
  {
   "cell_type": "markdown",
   "id": "38c7db4c-2d37-41c0-9689-3c98ae634134",
   "metadata": {},
   "source": [
    "* Si vede che l'errore si riduce molto velocemente\n",
    "* Esaminiamo le colonne rapp1 e rapp2 per vedere quale tende a una costante; ciò indicherà la velocità di convergenza del metodo di Newton per il dato x0.\n",
    "* Per la zfunf15 il metodo di Newton converge con velocità cubica, poiché $g^{(2)}(1)=0$ e per il teorema della convergenza."
   ]
  },
  {
   "cell_type": "markdown",
   "id": "618597eb-7c59-448c-97ec-4625cbe839a0",
   "metadata": {
    "jp-MarkdownHeadingCollapsed": true,
    "tags": []
   },
   "source": [
    "## E. Function fzero di Matlab\n",
    "Si consideri uno dei codici dell’esercizio B. e lo si modifichi per determinare gli zeri delle funzioni test richiamando opportunamente la function fzero di Matlab (lo script si chiami `main_fzero.m`) (vedere help fzero per i parametri di input e per ottenere oltre la soluzione il numero di passi e di valutazioni compiute dal metodo). Confrontare con il metodo di Newton."
   ]
  },
  {
   "cell_type": "code",
   "execution_count": 188,
   "id": "4f5160df-0179-4e79-8c06-79bcce76517c",
   "metadata": {
    "tags": []
   },
   "outputs": [
    {
     "name": "stdout",
     "output_type": "stream",
     "text": [
      " FZERO  Single-variable nonlinear zero finding. \n",
      "    X = FZERO(FUN,X0) tries to find a zero of the function FUN near X0, \n",
      "    if X0 is a scalar.  It first finds an interval containing X0 where the \n",
      "    function values of the interval endpoints differ in sign, then searches \n",
      "    that interval for a zero.  FUN is a function handle.  FUN accepts real \n",
      "    scalar input X and returns a real scalar function value F, evaluated \n",
      "    at X. The value X returned by FZERO is near a point where FUN changes \n",
      "    sign (if FUN is continuous), or NaN if the search fails.  \n",
      " \n",
      "    X = FZERO(FUN,X0), where X0 is a vector of length 2, assumes X0 is a \n",
      "    finite interval where the sign of FUN(X0(1)) differs from the sign of \n",
      "    FUN(X0(2)). An error occurs if this is not true.  Calling FZERO with a\n",
      "    finite interval guarantees FZERO will return a value near a point where\n",
      "    FUN changes sign.\n",
      " \n",
      "    X = FZERO(FUN,X0), where X0 is a scalar value, uses X0 as a starting \n",
      "    guess. FZERO looks for an interval containing a sign change for FUN and \n",
      "    containing X0.  If no such interval is found, NaN is returned.  \n",
      "    In this case, the search terminates when the search interval \n",
      "    is expanded until an Inf, NaN, or complex value is found. Note: if\n",
      "    the option FunValCheck is 'on', then an error will occur if an NaN or \n",
      "    complex value is found.\n",
      " \n",
      "    X = FZERO(FUN,X0,OPTIONS) solves the equation with the default optimization\n",
      "    parameters replaced by values in the structure OPTIONS, an argument\n",
      "    created with the OPTIMSET function.  See OPTIMSET for details.  Used\n",
      "    options are Display, TolX, FunValCheck, OutputFcn, and PlotFcns. \n",
      " \n",
      "    X = FZERO(PROBLEM) finds the zero of a function defined in PROBLEM. \n",
      "    PROBLEM is a structure with the function FUN in PROBLEM.objective, \n",
      "    the start point in PROBLEM.x0, the options structure in PROBLEM.options,\n",
      "    and solver name 'fzero' in PROBLEM.solver. \n",
      " \n",
      "    [X,FVAL]= FZERO(FUN,...) returns the value of the function described \n",
      "    in FUN, at X.\n",
      " \n",
      "    [X,FVAL,EXITFLAG] = FZERO(...) returns an EXITFLAG that describes the\n",
      "    exit condition. Possible values of EXITFLAG and the corresponding exit\n",
      "    conditions are\n",
      " \n",
      "      1  FZERO found a zero X.\n",
      "     -1  Algorithm terminated by output function.\n",
      "     -3  NaN or Inf function value encountered during search for an interval\n",
      "          containing a sign change.\n",
      "     -4  Complex function value encountered during search for an interval \n",
      "          containing a sign change.\n",
      "     -5  FZERO may have converged to a singular point.\n",
      "     -6  FZERO can not detect a change in sign of the function.\n",
      " \n",
      "    [X,FVAL,EXITFLAG,OUTPUT] = FZERO(...) returns a structure OUTPUT\n",
      "    with the number of function evaluations in OUTPUT.funcCount, the\n",
      "    algorithm name in OUTPUT.algorithm, the number of iterations to\n",
      "    find an interval (if needed) in OUTPUT.intervaliterations, the\n",
      "    number of zero-finding iterations in OUTPUT.iterations, and the\n",
      "    exit message in OUTPUT.message.\n",
      " \n",
      "    Examples\n",
      "      FUN can be specified using @:\n",
      "         X = fzero(@sin,3)\n",
      "      returns pi.\n",
      "         X = fzero(@sin,3,optimset('Display','iter')) \n",
      "      returns pi, uses the default tolerance and displays iteration information.\n",
      " \n",
      "      FUN can be an anonymous function:\n",
      "         X = fzero(@(x) sin(3*x),2)\n",
      " \n",
      "      FUN can be a parameterized function.  Use an anonymous function to\n",
      "      capture the problem-dependent parameters:\n",
      "         myfun = @(x,c) cos(c*x);  % The parameterized function.\n",
      "         c = 2;                    % The parameter.\n",
      "         X = fzero(@(x) myfun(x,c),0.1)\n",
      "    \n",
      "    Limitations\n",
      "         X = fzero(@(x) abs(x)+1, 1) \n",
      "      returns NaN since this function does not change sign anywhere on the \n",
      "      real axis (and does not have a zero as well).\n",
      "         X = fzero(@tan,2)\n",
      "      returns X near 1.5708 because the discontinuity of this function near the \n",
      "      point X gives the appearance (numerically) that the function changes sign at X.\n",
      " \n",
      "    See also ROOTS, FMINBND, FUNCTION_HANDLE.\n",
      "\n"
     ]
    }
   ],
   "source": [
    "help fzero"
   ]
  },
  {
   "cell_type": "code",
   "execution_count": 187,
   "id": "e9aa8e9d-6466-4282-8f16-afa7e0784f7a",
   "metadata": {
    "tags": []
   },
   "outputs": [
    {
     "data": {
      "image/png": "[encoded data removed]"
     },
     "execution_count": 187,
     "metadata": {},
     "output_type": "execute_result"
    },
    {
     "name": "stdout",
     "output_type": "stream",
     "text": [
      "zero: 9.999994595324965e-01\n",
      "numero iterazioni effettuate: 21\n"
     ]
    }
   ],
   "source": [
    "main_stangmet(3, 0, 1e-6, 0)"
   ]
  },
  {
   "cell_type": "code",
   "execution_count": 257,
   "id": "ce58d9cc-1592-4057-a265-0b521f456eda",
   "metadata": {
    "tags": []
   },
   "outputs": [
    {
     "data": {
      "image/png": "[encoded data removed]"
     },
     "execution_count": 257,
     "metadata": {},
     "output_type": "execute_result"
    },
    {
     "name": "stdout",
     "output_type": "stream",
     "text": [
      " \n",
      "Search for an interval around 0 containing a sign change:\n",
      " Func-count    a          f(a)             b          f(b)        Procedure\n",
      "    1               0             1             0             1   initial interval\n",
      "    3      -0.0282843       1.07318     0.0282843      0.931623   search\n",
      "    5           -0.04         1.105          0.04      0.904613   search\n",
      "    7      -0.0565685       1.15159     0.0565685      0.867656   search\n",
      "    9           -0.08       1.22082          0.08      0.817744   search\n",
      "   11       -0.113137       1.32592      0.113137      0.751531   search\n",
      "   13           -0.16       1.49045          0.16       0.66577   search\n",
      "   15       -0.226274       1.75958      0.226274      0.558105   search\n",
      "   17           -0.32       2.22815          0.32       0.42819   search\n",
      "   19       -0.452548       3.11719      0.452548      0.279379   search\n",
      "   21           -0.64       5.00446          0.64      0.124225   search\n",
      "   23       -0.905097       9.59058      0.905097    0.00896993   search\n",
      "   25           -1.28       22.4934          1.28     0.0744662   search\n",
      "   27        -1.81019        64.344       1.81019      0.266427   search\n",
      "   29           -2.56       218.267          2.56      -5.14708   search\n",
      " \n",
      "Search for a zero in the interval [-2.56, 2.56]:\n",
      " Func-count    x          f(x)             Procedure\n",
      "   29            2.56      -5.14708        initial\n",
      "   30         2.44204      -3.20055        interpolation\n",
      "   31          2.2509      -1.19085        interpolation\n",
      "   32          2.2509      -1.19085        bisection\n",
      "   33         1.17447     0.0298964        interpolation\n",
      "   34         1.20083     0.0393575        interpolation\n",
      "   35         1.72587      0.287328        bisection\n",
      "   36         1.98838     0.0281084        bisection\n",
      "   37         1.98838     0.0281084        interpolation\n",
      "   38         1.99959    0.00101277        interpolation\n",
      "   39               2  -1.89302e-06        interpolation\n",
      "   40               2   2.15126e-09        interpolation\n",
      "   41               2   5.32907e-15        interpolation\n",
      "   42               2             0        interpolation\n",
      " \n",
      "Zero found in the interval [-2.56, 2.56]\n",
      "algoritmo: bisection, interpolation\n",
      "zero: 2.000000000000001e+00\n",
      "numero iterazioni effettuate: 13\n"
     ]
    }
   ],
   "source": [
    "main_fzero(3, 0)"
   ]
  },
  {
   "cell_type": "markdown",
   "id": "ef505c35-9147-4322-8239-6e069a5a80c2",
   "metadata": {},
   "source": [
    "* Algoritmo ibrido. Utilizza una combinazione di bisezione, secante e interpolazione quadratica inversa\n",
    "* Accetta sia un punto singolo che un intervallo come punto di partenza per la ricerca della radice\n",
    "* Non richiede la conoscenza della derivata della funzione\n",
    "* Se siamo nelle condizioni di convergenza, fzero si comporta esattamente come il metodo di newton\n",
    "* Più robusto del metodo di Newton; può convergere anche quando il metodo di Newton non lo fa\n",
    "* Salta radici multiple e trova radici singole"
   ]
  },
  {
   "cell_type": "markdown",
   "id": "520034f0-d5f9-46ae-8912-15b7ea39c1cc",
   "metadata": {},
   "source": [
    "## F. Esercizio di verifica (Confronto Newton e secanti)\n",
    "L’obiettivo di questo esercizio è di confrontare, fissata una tolleranza, il costo computazionale del metodo delle secanti rispetto al metodo di Newton per approssimare uno zero alla tolleranza assegnata. Si consideri che secanti ad ogni iterazione valuta la funzione test una volta, Newton valuta la funzione e la sua derivata. Realizzare uno script `main_compare.m` che produca una tabella con il numero di valutazioni effettuate dai due metodi per le seguenti tolleranze: $10^{-n} \\text{ per } n=2,3,\\ldots,11;$ provare più funzioni test (il codice produca la stampa richiesta per almeno tre funzioni test)."
   ]
  },
  {
   "cell_type": "code",
   "execution_count": 259,
   "id": "40d1b52a-9580-4311-bae7-2e873d56a91a",
   "metadata": {},
   "outputs": [
    {
     "name": "stdout",
     "output_type": "stream",
     "text": [
      "     Var1     tvals    svals\n",
      "    ______    _____    _____\n",
      "\n",
      "      0.01      6        4  \n",
      "     0.001      8        5  \n",
      "    0.0001      8        5  \n",
      "     1e-05     10        6  \n",
      "     1e-06     10        6  \n",
      "     1e-07     10        6  \n",
      "     1e-08     10        7  \n",
      "     1e-09     10        7  \n",
      "     1e-10     10        7  \n",
      "     1e-11     12        7  \n",
      "\n"
     ]
    },
    {
     "data": {
      "image/png": "[encoded data removed]"
     },
     "execution_count": 259,
     "metadata": {},
     "output_type": "execute_result"
    },
    {
     "name": "stdout",
     "output_type": "stream",
     "text": [
      "Current plot held\n"
     ]
    }
   ],
   "source": [
    "main_compare(4, 2.2, 2.3)"
   ]
  },
  {
   "cell_type": "markdown",
   "id": "6ebdbcfb-8b2a-4446-8293-2353b400cf34",
   "metadata": {},
   "source": [
    "* Mentre il metodo di Newton potrebbe richiedere meno iterazioni per convergere, ciascuna di queste iterazioni potrebbe essere più onerosa in termini di valutazioni rispetto al metodo delle secanti.\n",
    "* Il numero di iterazioni di Newton deve essere al più la metà delle iterazioni del metodo delle secanti."
   ]
  },
  {
   "cell_type": "code",
   "execution_count": null,
   "id": "1b43e6a4-2e78-4c90-af4d-035d3be78f7e",
   "metadata": {},
   "outputs": [],
   "source": []
  }
 ],
 "metadata": {
  "kernelspec": {
   "display_name": "MATLAB Kernel",
   "language": "matlab",
   "name": "jupyter_matlab_kernel"
  },
  "language_info": {
   "file_extension": ".m",
   "mimetype": "text/x-matlab",
   "name": "matlab"
  }
 },
 "nbformat": 4,
 "nbformat_minor": 5
}
