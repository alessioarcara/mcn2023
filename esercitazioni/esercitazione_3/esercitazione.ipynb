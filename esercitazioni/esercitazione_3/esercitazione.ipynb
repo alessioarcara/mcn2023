{
 "cells": [
  {
   "cell_type": "code",
   "execution_count": 8,
   "id": "76844ce5-cf4c-47ea-93ca-8613719cef36",
   "metadata": {
    "tags": []
   },
   "outputs": [
    {
     "name": "stderr",
     "output_type": "stream",
     "text": [
      "Error using cd\n",
      "Unable to change current folder to '/Users/alessioarcara/Downloads/universita/mnc2023/esercitazioni/esercitazione_3/./esercitazione_3' (Name is nonexistent or not a folder)."
     ]
    }
   ],
   "source": [
    "cd('./esercitazione_3')"
   ]
  },
  {
   "cell_type": "markdown",
   "id": "5077e9bf-50db-4911-9874-dc373fb0bb15",
   "metadata": {
    "tags": []
   },
   "source": [
    "# Esercitazione 3: Script, Function e Numeri Finiti\n",
    "\n",
    "## Precisione BASIC single e BASIC double\n",
    "Matlab usa di default la precisione double e si può passare in precisione single mediante l’utilizzo della funzione single(). Poter alternare in un codice le precisioni single e double può essere molto utile a fini didattici."
   ]
  },
  {
   "cell_type": "markdown",
   "id": "46629a22-100f-4498-874f-d1e65e84d3c5",
   "metadata": {},
   "source": [
    "* matlab mantiene la precisione assegnata"
   ]
  },
  {
   "cell_type": "markdown",
   "id": "4dcfcfa9-c9b1-4520-8b42-395cb2bdeb80",
   "metadata": {
    "jp-MarkdownHeadingCollapsed": true,
    "tags": []
   },
   "source": [
    "## A. Script `scompute u.m`\n",
    "Lo script in oggetto calcola l’unità di arrotondamento U, sia in precisione single che double, mediante la seguente definizione operativa (ANSI/IEEE std.754): ”$U$ è il più grande numero finito positivo tale che $fl(U + 1) = 1$”.\n",
    "Analizzare l’implementazione della definzione operativa e verificare i risultati prodotti nei casi single e double."
   ]
  },
  {
   "cell_type": "code",
   "execution_count": 11,
   "id": "cf852654-7409-479d-97b0-929373f49696",
   "metadata": {
    "tags": []
   },
   "outputs": [
    {
     "name": "stdout",
     "output_type": "stream",
     "text": [
      "u = 2^(-53) = 1.110223024625157e-16 \n",
      "Largest Finite and Positive Number u such that u+1==1\n",
      "1.110223024625157e-16\n",
      "Exponent -53\n"
     ]
    }
   ],
   "source": [
    "scompute_u()"
   ]
  },
  {
   "cell_type": "markdown",
   "id": "cf8aa6a5-fb6e-4628-a16d-4472d9476dd3",
   "metadata": {
    "jp-MarkdownHeadingCollapsed": true,
    "tags": []
   },
   "source": [
    "## B. Ciclo while e numeri gradual underflow; script `sfiniti.m`\n",
    " Analizzare lo script che implementa un piccolo ciclo sia in versione BASIC single che BASIC double (vedi commenti) e stampa ad ogni iterazione un numero finito."
   ]
  },
  {
   "cell_type": "code",
   "execution_count": 12,
   "id": "b664af98-b2ef-4fc8-b4f5-db8f8fe5c2fa",
   "metadata": {
    "tags": []
   },
   "outputs": [
    {
     "name": "stdout",
     "output_type": "stream",
     "text": [
      "(2 raised to the power -1) =   5.000000000000000e-01 \n",
      "(2 raised to the power -2) =   2.500000000000000e-01 \n",
      "(2 raised to the power -3) =   1.250000000000000e-01 \n",
      "(2 raised to the power -4) =   6.250000000000000e-02 \n",
      "(2 raised to the power -5) =   3.125000000000000e-02 \n",
      "(2 raised to the power -6) =   1.562500000000000e-02 \n",
      "(2 raised to the power -7) =   7.812500000000000e-03 \n",
      "(2 raised to the power -8) =   3.906250000000000e-03 \n",
      "(2 raised to the power -9) =   1.953125000000000e-03 \n",
      "(2 raised to the power -10) =   9.765625000000000e-04 \n",
      "(2 raised to the power -11) =   4.882812500000000e-04 \n",
      "(2 raised to the power -12) =   2.441406250000000e-04 \n",
      "(2 raised to the power -13) =   1.220703125000000e-04 \n",
      "(2 raised to the power -14) =   6.103515625000000e-05 \n",
      "(2 raised to the power -15) =   3.051757812500000e-05 \n",
      "(2 raised to the power -16) =   1.525878906250000e-05 \n",
      "(2 raised to the power -17) =   7.629394531250000e-06 \n",
      "(2 raised to the power -18) =   3.814697265625000e-06 \n",
      "(2 raised to the power -19) =   1.907348632812500e-06 \n",
      "(2 raised to the power -20) =   9.536743164062500e-07 \n",
      "(2 raised to the power -21) =   4.768371582031250e-07 \n",
      "(2 raised to the power -22) =   2.384185791015625e-07 \n",
      "(2 raised to the power -23) =   1.192092895507812e-07 \n",
      "(2 raised to the power -24) =   5.960464477539062e-08 \n",
      "(2 raised to the power -25) =   2.980232238769531e-08 \n",
      "(2 raised to the power -26) =   1.490116119384766e-08 \n",
      "(2 raised to the power -27) =   7.450580596923828e-09 \n",
      "(2 raised to the power -28) =   3.725290298461914e-09 \n",
      "(2 raised to the power -29) =   1.862645149230957e-09 \n",
      "(2 raised to the power -30) =   9.313225746154785e-10 \n",
      "(2 raised to the power -31) =   4.656612873077393e-10 \n",
      "(2 raised to the power -32) =   2.328306436538696e-10 \n",
      "(2 raised to the power -33) =   1.164153218269348e-10 \n",
      "(2 raised to the power -34) =   5.820766091346741e-11 \n",
      "(2 raised to the power -35) =   2.910383045673370e-11 \n",
      "(2 raised to the power -36) =   1.455191522836685e-11 \n",
      "(2 raised to the power -37) =   7.275957614183426e-12 \n",
      "(2 raised to the power -38) =   3.637978807091713e-12 \n",
      "(2 raised to the power -39) =   1.818989403545856e-12 \n",
      "(2 raised to the power -40) =   9.094947017729282e-13 \n",
      "(2 raised to the power -41) =   4.547473508864641e-13 \n",
      "(2 raised to the power -42) =   2.273736754432321e-13 \n",
      "(2 raised to the power -43) =   1.136868377216160e-13 \n",
      "(2 raised to the power -44) =   5.684341886080801e-14 \n",
      "(2 raised to the power -45) =   2.842170943040401e-14 \n",
      "(2 raised to the power -46) =   1.421085471520200e-14 \n",
      "(2 raised to the power -47) =   7.105427357601002e-15 \n",
      "(2 raised to the power -48) =   3.552713678800501e-15 \n",
      "(2 raised to the power -49) =   1.776356839400250e-15 \n",
      "(2 raised to the power -50) =   8.881784197001252e-16 \n",
      "(2 raised to the power -51) =   4.440892098500626e-16 \n",
      "(2 raised to the power -52) =   2.220446049250313e-16 \n",
      "(2 raised to the power -53) =   1.110223024625157e-16 \n",
      "(2 raised to the power -54) =   5.551115123125783e-17 \n",
      "(2 raised to the power -55) =   2.775557561562891e-17 \n",
      "(2 raised to the power -56) =   1.387778780781446e-17 \n",
      "(2 raised to the power -57) =   6.938893903907228e-18 \n",
      "(2 raised to the power -58) =   3.469446951953614e-18 \n",
      "(2 raised to the power -59) =   1.734723475976807e-18 \n",
      "(2 raised to the power -60) =   8.673617379884035e-19 \n",
      "(2 raised to the power -61) =   4.336808689942018e-19 \n",
      "(2 raised to the power -62) =   2.168404344971009e-19 \n",
      "(2 raised to the power -63) =   1.084202172485504e-19 \n",
      "(2 raised to the power -64) =   5.421010862427522e-20 \n",
      "(2 raised to the power -65) =   2.710505431213761e-20 \n",
      "(2 raised to the power -66) =   1.355252715606881e-20 \n",
      "(2 raised to the power -67) =   6.776263578034403e-21 \n",
      "(2 raised to the power -68) =   3.388131789017201e-21 \n",
      "(2 raised to the power -69) =   1.694065894508601e-21 \n",
      "(2 raised to the power -70) =   8.470329472543003e-22 \n",
      "(2 raised to the power -71) =   4.235164736271502e-22 \n",
      "(2 raised to the power -72) =   2.117582368135751e-22 \n",
      "(2 raised to the power -73) =   1.058791184067875e-22 \n",
      "(2 raised to the power -74) =   5.293955920339377e-23 \n",
      "(2 raised to the power -75) =   2.646977960169689e-23 \n",
      "(2 raised to the power -76) =   1.323488980084844e-23 \n",
      "(2 raised to the power -77) =   6.617444900424221e-24 \n",
      "(2 raised to the power -78) =   3.308722450212111e-24 \n",
      "(2 raised to the power -79) =   1.654361225106055e-24 \n",
      "(2 raised to the power -80) =   8.271806125530277e-25 \n",
      "(2 raised to the power -81) =   4.135903062765138e-25 \n",
      "(2 raised to the power -82) =   2.067951531382569e-25 \n",
      "(2 raised to the power -83) =   1.033975765691285e-25 \n",
      "(2 raised to the power -84) =   5.169878828456423e-26 \n",
      "(2 raised to the power -85) =   2.584939414228211e-26 \n",
      "(2 raised to the power -86) =   1.292469707114106e-26 \n",
      "(2 raised to the power -87) =   6.462348535570529e-27 \n",
      "(2 raised to the power -88) =   3.231174267785264e-27 \n",
      "(2 raised to the power -89) =   1.615587133892632e-27 \n",
      "(2 raised to the power -90) =   8.077935669463161e-28 \n",
      "(2 raised to the power -91) =   4.038967834731580e-28 \n",
      "(2 raised to the power -92) =   2.019483917365790e-28 \n",
      "(2 raised to the power -93) =   1.009741958682895e-28 \n",
      "(2 raised to the power -94) =   5.048709793414476e-29 \n",
      "(2 raised to the power -95) =   2.524354896707238e-29 \n",
      "(2 raised to the power -96) =   1.262177448353619e-29 \n",
      "(2 raised to the power -97) =   6.310887241768094e-30 \n",
      "(2 raised to the power -98) =   3.155443620884047e-30 \n",
      "(2 raised to the power -99) =   1.577721810442024e-30 \n",
      "(2 raised to the power -100) =   7.888609052210118e-31 \n",
      "(2 raised to the power -101) =   3.944304526105059e-31 \n",
      "(2 raised to the power -102) =   1.972152263052530e-31 \n",
      "(2 raised to the power -103) =   9.860761315262648e-32 \n",
      "(2 raised to the power -104) =   4.930380657631324e-32 \n",
      "(2 raised to the power -105) =   2.465190328815662e-32 \n",
      "(2 raised to the power -106) =   1.232595164407831e-32 \n",
      "(2 raised to the power -107) =   6.162975822039155e-33 \n",
      "(2 raised to the power -108) =   3.081487911019577e-33 \n",
      "(2 raised to the power -109) =   1.540743955509789e-33 \n",
      "(2 raised to the power -110) =   7.703719777548943e-34 \n",
      "(2 raised to the power -111) =   3.851859888774472e-34 \n",
      "(2 raised to the power -112) =   1.925929944387236e-34 \n",
      "(2 raised to the power -113) =   9.629649721936179e-35 \n",
      "(2 raised to the power -114) =   4.814824860968090e-35 \n",
      "(2 raised to the power -115) =   2.407412430484045e-35 \n",
      "(2 raised to the power -116) =   1.203706215242022e-35 \n",
      "(2 raised to the power -117) =   6.018531076210112e-36 \n",
      "(2 raised to the power -118) =   3.009265538105056e-36 \n",
      "(2 raised to the power -119) =   1.504632769052528e-36 \n",
      "(2 raised to the power -120) =   7.523163845262640e-37 \n",
      "(2 raised to the power -121) =   3.761581922631320e-37 \n",
      "(2 raised to the power -122) =   1.880790961315660e-37 \n",
      "(2 raised to the power -123) =   9.403954806578300e-38 \n",
      "(2 raised to the power -124) =   4.701977403289150e-38 \n",
      "(2 raised to the power -125) =   2.350988701644575e-38 \n",
      "(2 raised to the power -126) =   1.175494350822288e-38 \n",
      "(2 raised to the power -127) =   5.877471754111438e-39 \n",
      "(2 raised to the power -128) =   2.938735877055719e-39 \n",
      "(2 raised to the power -129) =   1.469367938527859e-39 \n",
      "(2 raised to the power -130) =   7.346839692639297e-40 \n",
      "(2 raised to the power -131) =   3.673419846319648e-40 \n",
      "(2 raised to the power -132) =   1.836709923159824e-40 \n",
      "(2 raised to the power -133) =   9.183549615799121e-41 \n",
      "(2 raised to the power -134) =   4.591774807899561e-41 \n",
      "(2 raised to the power -135) =   2.295887403949780e-41 \n",
      "(2 raised to the power -136) =   1.147943701974890e-41 \n",
      "(2 raised to the power -137) =   5.739718509874451e-42 \n",
      "(2 raised to the power -138) =   2.869859254937225e-42 \n",
      "(2 raised to the power -139) =   1.434929627468613e-42 \n",
      "(2 raised to the power -140) =   7.174648137343063e-43 \n",
      "(2 raised to the power -141) =   3.587324068671532e-43 \n",
      "(2 raised to the power -142) =   1.793662034335766e-43 \n",
      "(2 raised to the power -143) =   8.968310171678829e-44 \n",
      "(2 raised to the power -144) =   4.484155085839415e-44 \n",
      "(2 raised to the power -145) =   2.242077542919707e-44 \n",
      "(2 raised to the power -146) =   1.121038771459854e-44 \n",
      "(2 raised to the power -147) =   5.605193857299268e-45 \n",
      "(2 raised to the power -148) =   2.802596928649634e-45 \n",
      "(2 raised to the power -149) =   1.401298464324817e-45 \n",
      "(2 raised to the power -150) =   0.000000000000000e+00 \n"
     ]
    }
   ],
   "source": [
    "sfiniti()"
   ]
  },
  {
   "cell_type": "markdown",
   "id": "4246c52d-f3df-4803-b0b1-bf4742be4fd8",
   "metadata": {
    "jp-MarkdownHeadingCollapsed": true,
    "tags": []
   },
   "source": [
    "## C. Script `sexpression.m`\n",
    "Viene effettuato il calcolo della semplice espressione\n",
    "\n",
    "$$y = ((1+x)-1)/x$$\n",
    "\n",
    "che dovrebbe sempre produrre come risultato il valore esatto 1, invece a seconda del valore assegnato ad x si ottengono risultati inattesi. Provare differenti valori per $x$ e dedurre per quali il risultato sarà corretto e per quali no. Usufruire dello script `sconv_dec2bin.m` che permette di convertire un numero decimale in base 2 e controlla se è rappresentabile in modo esatto."
   ]
  },
  {
   "cell_type": "markdown",
   "id": "0fc29f8d-8883-460c-941f-e9a0ff8c7e48",
   "metadata": {},
   "source": [
    "* la rappresentazione non è un problema se è esatta\n",
    "* se è molto grande il numero -> non viene sentita\n",
    "* se è molto piccolo il numero -> cancellazione numerica\n",
    "* il risultato dell'espressione non è più 1!"
   ]
  },
  {
   "cell_type": "code",
   "execution_count": 66,
   "id": "0010f0e5-bfb4-44c7-94ee-dcc9d4c95900",
   "metadata": {
    "tags": []
   },
   "outputs": [
    {
     "name": "stdout",
     "output_type": "stream",
     "text": [
      " ************************************************\n",
      "  z: numero reale\n",
      "  k: numero max. di cifre per la parte frazionaria\n",
      "  Codice per la conversione da base 10 a base 2\n",
      "  di un numero in virgola\n",
      " ************************************************\n",
      "\n",
      " ***************************************************\n",
      "  si vuole valutare l'espressione ((1+x)-1)/x\n",
      "  con x numero finito e valutare l'E_ALG;\n",
      "  utilizzare il programma conv_dec2bin.m per\n",
      "  determinare se i valori x utilizzati hanno una \n",
      "  rappresentazione esatta in base 2 a 53 cifre\n",
      " ***************************************************\n",
      "\n"
     ]
    }
   ],
   "source": [
    "help sconv_dec2bin\n",
    "help sexpression"
   ]
  },
  {
   "cell_type": "code",
   "execution_count": 53,
   "id": "eaee249f-ff27-44de-8e85-7ea468fddfef",
   "metadata": {
    "tags": []
   },
   "outputs": [
    {
     "name": "stdout",
     "output_type": "stream",
     "text": [
      "Converte un reale (parte intera e frazionaria) da base 10 a base 2\n",
      "Il numero nella nuova base e':\n",
      "0.00011001100110011001100110011001100110011001100110011\n",
      "Rappresentazione NON esatta\n"
     ]
    }
   ],
   "source": [
    "sconv_dec2bin(0.1, 53)"
   ]
  },
  {
   "cell_type": "code",
   "execution_count": 68,
   "id": "22662ba2-ccdd-4698-a0c2-5b4ad3a8ef89",
   "metadata": {
    "tags": []
   },
   "outputs": [
    {
     "name": "stdout",
     "output_type": "stream",
     "text": [
      " x                      y\n",
      " 1.000000011686097e-07  1.192092895507812e+00\n",
      "\n",
      "Err. relativo:  1.920928955078125e-01\n",
      "calcolo errato\n"
     ]
    }
   ],
   "source": [
    "sexpression(single(0.0000001))"
   ]
  },
  {
   "cell_type": "markdown",
   "id": "e0e05549-e1ab-40df-a135-1803ef8f3984",
   "metadata": {},
   "source": [
    "## D. Approssimazione della derivata; script `fidiff.m`\n",
    "Sia f una funzione continua e derivabile e cerchiamo di approssimare il valore della derivata mediante il limite del rapporto incrementale\n",
    "\n",
    "$$\\lim_{h\\to0} f(x+h)-f(x)$$\n",
    "\n",
    "L’idea è di valutare il rapporto incrementale per un certo valore di $h$, ma quanto piccolo? Ponendo $h = 0$ si ottiene $0/0$, cioè NaN. Lo script in oggetto prova valori di $0$ da $10^0$ a $10^-14$ assumendo come $x$ il valore 1.0, se non ne viene fornito uno differente.\n",
    "\n",
    "Lo script fa uso di precisione double. Si vede che l’approssimazione migliora al diminuire di $h$, ma quando $h$ diventa troppo piccolo, l’approssimazione comincia a peggiorare. Spiegarne il perché.\n",
    "\n",
    "Osserviamo meglio l’output numerico; si nota che per valori grandi di $h$, l’errore assoluto diminuisce di un fattore 10 ogni volta che $h$ viene ridotto di un fattore 10, fino a che poi si ottengono risultati inattendibili. Spiegare il perché."
   ]
  },
  {
   "cell_type": "markdown",
   "id": "1c61ef96-1bfb-4bcd-a0a9-8fa97d6dd116",
   "metadata": {},
   "source": [
    "* Si osserva che l'errore tende a diminuire man mano che $h$ diventa più piccolo, ma solo fino a un certo punto. Oltre quel punto, l'errore inizia ad aumentare a causa della cancellazione numerica.\n",
    "* La cancellazione numerica si verifica quando si sottraggono due numeri molto vicini tra loro, e questo fenomeno può portare alla perdita di precisione a causa delle limitazioni della rappresentazione numerica."
   ]
  },
  {
   "cell_type": "code",
   "execution_count": 70,
   "id": "e9ab0a46-e256-44a1-a855-d0f774ac88c1",
   "metadata": {
    "tags": []
   },
   "outputs": [
    {
     "name": "stdout",
     "output_type": "stream",
     "text": [
      " h            fp           fpfd     AErr      RErr\n",
      " 1.0e+00      2.71828      4.67077  1.95e+00  7.18e-01\n",
      " 1.0e-01      2.71828      2.85884  1.41e-01  5.17e-02\n",
      " 1.0e-02      2.71828      2.73192  1.36e-02  5.02e-03\n",
      " 1.0e-03      2.71828      2.71964  1.36e-03  5.00e-04\n",
      " 1.0e-04      2.71828      2.71842  1.36e-04  5.00e-05\n",
      " 1.0e-05      2.71828      2.71830  1.36e-05  5.00e-06\n",
      " 1.0e-06      2.71828      2.71828  1.36e-06  5.00e-07\n",
      " 1.0e-07      2.71828      2.71828  1.40e-07  5.15e-08\n",
      " 1.0e-08      2.71828      2.71828  6.60e-09  2.43e-09\n",
      " 1.0e-09      2.71828      2.71828  2.15e-07  7.93e-08\n",
      " 1.0e-10      2.71828      2.71828  1.55e-06  5.69e-07\n",
      " 1.0e-11      2.71828      2.71831  3.26e-05  1.20e-05\n",
      " 1.0e-12      2.71828      2.71871  4.32e-04  1.59e-04\n",
      " 1.0e-13      2.71828      2.71783  4.56e-04  1.68e-04\n",
      " 1.0e-14      2.71828      2.70894  9.34e-03  3.44e-03\n"
     ]
    },
    {
     "data": {
      "image/png": "[encoded data removed]"
     },
     "execution_count": 70,
     "metadata": {},
     "output_type": "execute_result"
    }
   ],
   "source": [
    "fidiff()"
   ]
  },
  {
   "cell_type": "markdown",
   "id": "06bc1024-d222-43f0-bcb4-45bb11beb3e9",
   "metadata": {},
   "source": [
    "## E. Sull’Errore Inerente nella valutazione di una funzione\n",
    "L’errore inerente misura l’accuratezza che ci si può aspettare nel risolvere un problema in una data precisione, indipendentemente dall’algoritmo usato. Se consideriamo il problema di valutare una funzione reale di variabile reale derivabile almeno due volte avremo la seguente stima del numero di condizione di f in x:\n",
    "\n",
    "$$C(f,x)=\\frac{|xf'(x)|}{|f(x)|}$$\n",
    "\n",
    "Quante cifre esatte del risultato ci aspettiamo nel valutare $f(x)$? Ricordando la stima dell'errore inerente\n",
    "\n",
    "$$\\frac{|f(\\tilde{x})-f(x)|}{|f(x)|}\\approx C(f,x)\\frac{|\\tilde{x}-x|}{|x|}$$\n",
    "\n",
    "e applicando il logaritmo in base 10 e poi cambiando segno si ha:\n",
    "\n",
    "$$-\\log_{10}(\\frac{|f(\\tilde{x})-f(x)|}{|f(x)|})\\approx-\\log_{10}(\\frac{|\\tilde{x}-x|}{x})-\\log_{10}(C(f,x))$$\n",
    "\n",
    "Il membro di sinistra rappresenta il numero di cifre esatte con cui $f(\\tilde{x})$ approssima $f(x)$, così come il primo termine del membro di destra rappresenta il numero di cifre con cui $\\tilde{x}$ approssima $x$ e che sappiamo quante sono a seconda della precisione di rappresentazione usata. Quindi la stima del numero di cifre che si ottengono nel risultato si ottiene sottraendo la quantità $\\log_{10}(C(f,x))$ al numero di cifre corrispondente alla precisione usata.\n",
    "\n",
    "Se consideriamo la funzione $\\sin(x)$, teoricamente si ottiene:\n",
    "\n",
    "| f   | x    | f(x) | f'(x) | C(f, x)  | log10(C(f, x)) |\n",
    "|-----|------|------|-------|----------|----------------|\n",
    "| sin | pi   | 0    | -1    | infinity | infinity       |\n",
    "| sin | pi/2 | 1    | 0     | 0        | -infinity      |\n",
    "| sin | 0    | 0    | 1     | NaN      | NaN            |\n",
    "\n",
    "Si consideri lo script `scond_sin.m` che calcola l’Errore Inerente tra il valore calcolato in doppia precisione (che assumeremo come risultato esatto a partire da un dato esatto) ed il valore calcolato in precisione singola (che assumeremo come risultato esatto, ma a partire da un dato perturbato) per sperimentare se numericamente si ha un comportamento in linea con quanto previsto teoricamente.\n",
    "\n",
    "Si modifichi lo script per provare i valori indicati in tabella, con $\\text{eps}1 = 2^{-12}$ e $\\text{eps}2 = 2^{-24}$. Dai risultati ottenuti che considerazioni si possono fare?"
   ]
  },
  {
   "cell_type": "code",
   "execution_count": 73,
   "id": "f475fd66-6d44-4c54-ab1e-8a364bcb38f8",
   "metadata": {
    "tags": []
   },
   "outputs": [
    {
     "name": "stdout",
     "output_type": "stream",
     "text": [
      " xD                      f(xS)           f(xD)                 Erel        -log10(Erel)  Cond  log10(cond)\n",
      " 3.141592653589793e+00  -8.7422777e-08   1.224646799147353e-16 7.138611e+08  -9  2.565305e+16   16\n",
      " 3.141836794214793e+00  -2.4422805e-04  -2.441406225745583e-04 3.581146e-04   3  1.286896e+04    4\n",
      " 3.141592713194438e+00  -8.7422777e-08  -5.960464465292591e-08 4.667108e-01   0  5.270718e+07    8\n",
      " 1.570796326794897e+00   1.0000000e+00   1.000000000000000e+00 0.000000e+00 Inf  9.618353e-17  -16\n",
      " 1.571040467419897e+00   9.9999994e-01   9.999999701976777e-01 2.980232e-08   8  3.835548e-04   -3\n",
      " 1.570796386399541e+00   1.0000000e+00   9.999999999999982e-01 1.776357e-15  15  9.362676e-08   -7\n",
      " 2.441406250000000e-04   2.4414062e-04   2.441406225746808e-04 9.934108e-09   8  1.000000e+00   -0\n",
      " 5.960464477539062e-08   5.9604645e-08   5.960464477539059e-08 5.551115e-16  15  1.000000e+00   -0\n"
     ]
    }
   ],
   "source": [
    "scond_sin()"
   ]
  },
  {
   "cell_type": "markdown",
   "id": "f36e91a8-5fed-4f3e-86fe-5d22225e92d1",
   "metadata": {},
   "source": [
    "1. **Caso $ \\pi $**: Con un $ C(f, x) $ infinito, anche piccole perturbazioni nell'input $ x $ dovrebbero portare a grandi variazioni in $ f(x) $. L'effetto di $ \\text{eps1} $ e $ \\text{eps2} $ sarà quindi molto rilevante: più sono piccoli, meno ampio sarà l'errore, ma rimarrà comunque elevato.\n",
    "2. **Caso $ \\pi/2 $**: Poiché $ C(f, x) = 0 $, la funzione è ben condizionata in questo punto. Pertanto, piccole perturbazioni in $ x $ dovrebbero avere poco effetto su $ f(x) $, indipendentemente dai valori di $ \\text{eps1} $ e $ \\text{eps2} $.\n",
    "3. **Casi Speciali (0)**: In questo caso, $ C(f, x) $ è indefinito, il che rende difficile fare previsioni precise. Tuttavia, con valori di $ \\text{eps1} $ e $ \\text{eps2} $ più piccoli, ci si può aspettare generalmente un errore inerente minore.\n"
   ]
  },
  {
   "cell_type": "markdown",
   "id": "61cc39f2-680a-49da-84f1-711f69d88baa",
   "metadata": {},
   "source": [
    "## F. Esercizio di verifica\n",
    "Nella function `compound.m` viene implementata, in BASIC single, la formula dell’interesse composto.\n",
    "\n",
    "In generale, se si investe $a_0$ euro ad un interesse composto $x$, $n$ volte all’anno, alla fine dell’anno il valore è $a_0C_n(x)$ euro, dove\n",
    "$$ Cn(x) = (1 + \\frac{x}{n})^n $$\n",
    "\n",
    "si devono valutare 5 algoritmi che implementano diverse operazioni e dobbiamo vedere qual è il migliore tra questi\n",
    "\n",
    "modificare compound in modo tale RITORNI i risultati nei 5 diversi modi e implementare `scompound` in modo tale che produca una tabella con iterazioni=[50,100,1000,10000,...]\n",
    "\n",
    "Per quanto spiegato, aumentando n, il valore deve tendere ad $e^x$. I risultati ottenuti con i differenti Algoritmi non sono tutti uguali fra loro; quali sono i corretti? Come ci si spiega quanto ottenuto?\n",
    "* alg1,alg2,alg3 corrotti\n",
    "* l'identità logaritmica è più stabile ma subentra quel 1+x/n e quando n è molto grande, sto aggiungendo a 1 qualcosa molto piccolo\n",
    "* alg4,alg5 non corrotti "
   ]
  },
  {
   "cell_type": "code",
   "execution_count": 86,
   "id": "038aee5f-6e07-4db9-b22b-0e7111c092b1",
   "metadata": {
    "tags": []
   },
   "outputs": [
    {
     "name": "stdout",
     "output_type": "stream",
     "text": [
      "    n_vect     alg1      alg2      alg3      alg4      alg5 \n",
      "    ______    ______    ______    ______    ______    ______\n",
      "\n",
      "       50     1.6446    1.6446    1.6446    1.6446    1.6446\n",
      "      100     1.6467    1.6467    1.6467    1.6467    1.6467\n",
      "     1000     1.6485    1.6485    1.6485    1.6485    1.6485\n",
      "    10000     1.6479    1.6479    1.6479    1.6487    1.6487\n",
      "    1e+05     1.6498    1.6498    1.6498    1.6487    1.6487\n",
      "    1e+06     1.6028     1.611     1.611    1.6487    1.6487\n",
      "\n"
     ]
    }
   ],
   "source": [
    "scompound(0.5)"
   ]
  },
  {
   "cell_type": "markdown",
   "id": "5b2f1e5f-1db2-4b26-8d86-28cb61d07b3f",
   "metadata": {},
   "source": [
    "* "
   ]
  }
 ],
 "metadata": {
  "kernelspec": {
   "display_name": "MATLAB Kernel",
   "language": "matlab",
   "name": "jupyter_matlab_kernel"
  },
  "language_info": {
   "file_extension": ".m",
   "mimetype": "text/x-matlab",
   "name": "matlab"
  }
 },
 "nbformat": 4,
 "nbformat_minor": 5
}
